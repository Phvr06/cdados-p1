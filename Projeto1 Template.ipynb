{
 "cells": [
  {
   "cell_type": "markdown",
   "metadata": {},
   "source": [
    "# Projeto 1 - Ciência dos Dados"
   ]
  },
  {
   "cell_type": "markdown",
   "metadata": {},
   "source": [
    "Nome: Pedro Henrique\n",
    "\n",
    "Nome: Vitor Katakura"
   ]
  },
  {
   "cell_type": "markdown",
   "metadata": {},
   "source": [
    "Atenção: Serão permitidos grupos de três pessoas, mas com uma rubrica mais exigente. Grupos deste tamanho precisarão fazer um questionário de avaliação de trabalho em equipe"
   ]
  },
  {
   "cell_type": "markdown",
   "metadata": {},
   "source": [
    "___\n",
    "Carregando algumas bibliotecas:"
   ]
  },
  {
   "cell_type": "code",
   "execution_count": 141,
   "metadata": {},
   "outputs": [],
   "source": [
    "%matplotlib inline\n",
    "import pandas as pd\n",
    "import matplotlib.pyplot as plt\n",
    "import numpy as np\n",
    "import os"
   ]
  },
  {
   "cell_type": "code",
   "execution_count": 142,
   "metadata": {
    "scrolled": false
   },
   "outputs": [
    {
     "name": "stdout",
     "output_type": "stream",
     "text": [
      "Esperamos trabalhar no diretório\n",
      "/home/vitorhideki/www/python/cdados-p1\n"
     ]
    }
   ],
   "source": [
    "print('Esperamos trabalhar no diretório')\n",
    "print(os.getcwd())"
   ]
  },
  {
   "cell_type": "markdown",
   "metadata": {},
   "source": [
    "Carregando a base de dados com os tweets classificados manualmente e as stop words:"
   ]
  },
  {
   "cell_type": "code",
   "execution_count": 143,
   "metadata": {},
   "outputs": [],
   "source": [
    "stop_words = pd.read_csv('stopwords.csv', header=None)[0].to_list()"
   ]
  },
  {
   "cell_type": "code",
   "execution_count": 144,
   "metadata": {},
   "outputs": [],
   "source": [
    "train = pd.read_excel('dados_treino.xlsx')"
   ]
  },
  {
   "cell_type": "code",
   "execution_count": 145,
   "metadata": {},
   "outputs": [],
   "source": [
    "test = pd.read_excel('dados_teste.xlsx')"
   ]
  },
  {
   "cell_type": "code",
   "execution_count": 146,
   "metadata": {},
   "outputs": [],
   "source": [
    "stop_words = pd.read_csv('stopwords.csv', header=None)[0].to_list()"
   ]
  },
  {
   "cell_type": "markdown",
   "metadata": {},
   "source": [
    "___\n",
    "## Classificador automático\n"
   ]
  },
  {
   "cell_type": "markdown",
   "metadata": {},
   "source": [
    "Na classificação dos comentários, nós consideramos que somos funcionários da Amazon e gostaríamos de filtrar quais comentários feitos por clientes são relacionados à problemas com a empresa e quais são relacionados à comentários sobre o livro. Para isso, utilizamos 3 variáveis relevantes na classificação: Problemas com a Amazon, comentários sobre o livro e outros.\n",
    "\n",
    "* $A$: Problemas com a Amazon\n",
    "* $L$: Comentários sobre o livro\n",
    "* $O$: Outros\n"
   ]
  },
  {
   "cell_type": "markdown",
   "metadata": {},
   "source": [
    "___\n",
    "### Montando um Classificador Naive-Bayes"
   ]
  },
  {
   "cell_type": "code",
   "execution_count": 147,
   "metadata": {},
   "outputs": [],
   "source": [
    "legenda = {'Problemas com a Amazon': 1, 'Comentários sobre o livro': 2, 'outros': 3}"
   ]
  },
  {
   "cell_type": "code",
   "execution_count": 148,
   "metadata": {},
   "outputs": [],
   "source": [
    "# Removendo as colunas que não serão utilizadas\n",
    "train = train.loc[:,['Mensagem', 'Target']]\n",
    "test = test.loc[:,['Mensagem', 'Target']]"
   ]
  },
  {
   "cell_type": "markdown",
   "metadata": {},
   "source": [
    "<b>Limpeza dos tweets</b>\n",
    "\n",
    "Aqui implementamos uma função que recebe um texto e remove dele todas as pontuações, emoticons e stop words."
   ]
  },
  {
   "cell_type": "code",
   "execution_count": 149,
   "metadata": {},
   "outputs": [],
   "source": [
    "import re \n",
    "\n",
    "def cleanup(text):\n",
    "    pattern = re.compile(r'[\\`\\\"\\!\\-\\.\\:\\?\\;\\$\\'\\,]')\n",
    "    emoji_pattern = re.compile(\"[\"\n",
    "                        u\"\\U0001F600-\\U0001F64F\"  # emoticons\n",
    "                        u\"\\U0001F300-\\U0001F5FF\"  # symbols & pictographs\n",
    "                        u\"\\U0001F680-\\U0001F6FF\"  # transport & map symbols\n",
    "                        u\"\\U0001F1E0-\\U0001F1FF\"  # flags (iOS)\n",
    "                        u\"\\U00002702-\\U000027B0\"\n",
    "                        u\"\\U000024C2-\\U0001F251\"\n",
    "                        \"]+\", flags=re.UNICODE)\n",
    "    \n",
    "    texto_sem_pontos = re.sub(pattern, '', text)\n",
    "    texto_sem_emoticons = re.sub(emoji_pattern, '', texto_sem_pontos)\n",
    "\n",
    "    texto_limpo = ''\n",
    "    for palavra in texto_sem_emoticons.split():\n",
    "        if palavra not in stop_words:\n",
    "            texto_limpo += palavra + ' '\n",
    "\n",
    "    return texto_limpo.lower()"
   ]
  },
  {
   "cell_type": "code",
   "execution_count": 150,
   "metadata": {},
   "outputs": [],
   "source": [
    "train['Mensagem'] = train['Mensagem'].apply(cleanup)\n",
    "test['Mensagem'] = test['Mensagem'].apply(cleanup)\n",
    "train_100 = train.copy()\n",
    "test_100 = test.copy()"
   ]
  },
  {
   "cell_type": "code",
   "execution_count": 151,
   "metadata": {},
   "outputs": [],
   "source": [
    "# Transformando os valores numéricos da variável target na base de dados treino em categóricos\n",
    "train['Mensagem'] = train['Mensagem'].astype('category')\n",
    "train['Target'] = train['Target'].astype('category')\n",
    "\n",
    "train['Target'] = train['Target'].cat.rename_categories(['Problemas com a Amazon', 'Comentários sobre o livro', 'Outros'])"
   ]
  },
  {
   "cell_type": "code",
   "execution_count": 152,
   "metadata": {},
   "outputs": [],
   "source": [
    "# Transformando os valores numéricos da variável target na base de dados teste em categóricos\n",
    "test['Mensagem'] = test['Mensagem'].astype('category')\n",
    "test['Target'] = test['Target'].astype('category')\n",
    "\n",
    "test['Target'] = test['Target'].cat.rename_categories(['Problemas com a Amazon', 'Comentários sobre o livro', 'Outros'])"
   ]
  },
  {
   "cell_type": "markdown",
   "metadata": {},
   "source": [
    "<b>Tabela de frequências das palavras</b>\n",
    "\n",
    "Aqui, conseguimos obter as probabilidades de cada categoria:\n",
    "\n",
    "* $P(A)$ = 0.686667\n",
    "* $P(L)$ = 0.213333\n",
    "* $P(O)$ = 0.1"
   ]
  },
  {
   "cell_type": "code",
   "execution_count": 153,
   "metadata": {},
   "outputs": [
    {
     "data": {
      "text/html": [
       "<div>\n",
       "<style scoped>\n",
       "    .dataframe tbody tr th:only-of-type {\n",
       "        vertical-align: middle;\n",
       "    }\n",
       "\n",
       "    .dataframe tbody tr th {\n",
       "        vertical-align: top;\n",
       "    }\n",
       "\n",
       "    .dataframe thead th {\n",
       "        text-align: right;\n",
       "    }\n",
       "</style>\n",
       "<table border=\"1\" class=\"dataframe\">\n",
       "  <thead>\n",
       "    <tr style=\"text-align: right;\">\n",
       "      <th></th>\n",
       "      <th>proportion</th>\n",
       "    </tr>\n",
       "    <tr>\n",
       "      <th>Target</th>\n",
       "      <th></th>\n",
       "    </tr>\n",
       "  </thead>\n",
       "  <tbody>\n",
       "    <tr>\n",
       "      <th>Comentários sobre o livro</th>\n",
       "      <td>0.686667</td>\n",
       "    </tr>\n",
       "    <tr>\n",
       "      <th>Problemas com a Amazon</th>\n",
       "      <td>0.213333</td>\n",
       "    </tr>\n",
       "    <tr>\n",
       "      <th>Outros</th>\n",
       "      <td>0.100000</td>\n",
       "    </tr>\n",
       "  </tbody>\n",
       "</table>\n",
       "</div>"
      ],
      "text/plain": [
       "                           proportion\n",
       "Target                               \n",
       "Comentários sobre o livro    0.686667\n",
       "Problemas com a Amazon       0.213333\n",
       "Outros                       0.100000"
      ]
     },
     "execution_count": 153,
     "metadata": {},
     "output_type": "execute_result"
    }
   ],
   "source": [
    "tabela_relativa = train['Target'].value_counts(True)\n",
    "\n",
    "P_amazon = tabela_relativa['Problemas com a Amazon']\n",
    "P_livro = tabela_relativa['Comentários sobre o livro']\n",
    "P_outros = tabela_relativa['Outros']\n",
    "tabela_relativa.to_frame()"
   ]
  },
  {
   "cell_type": "code",
   "execution_count": 154,
   "metadata": {},
   "outputs": [],
   "source": [
    "palavras = ''\n",
    "\n",
    "for i in range(len(train['Mensagem'])):\n",
    "    palavras += train['Mensagem'][i] + ' '\n",
    "\n",
    "palavras = palavras.split()\n",
    "palavras = pd.Series(list(set(palavras))) # Variável que armazena todas as palavras diferentes da base de treino\n",
    "n_palavras_diff = len(palavras) # Variável que armazena a quantidade de palavras diferentes da base de treino"
   ]
  },
  {
   "cell_type": "code",
   "execution_count": 155,
   "metadata": {},
   "outputs": [],
   "source": [
    "palavras_amazon = ''\n",
    "\n",
    "amazon = train.loc[train['Target'] == 'Problemas com a Amazon', ['Mensagem']]\n",
    "amazon = amazon.reset_index(drop=True)\n",
    "\n",
    "for i in range(len(amazon['Mensagem'])):\n",
    "    palavras_amazon += amazon['Mensagem'][i] + ' '\n",
    "\n",
    "palavras_amazon_lista = palavras_amazon.split()\n",
    "palavras_amazon = pd.Series(palavras_amazon_lista)\n",
    "P_palavra_dado_amazon = palavras_amazon.value_counts() # Variável que armazena as palavras e suas respectivas quantidades de vezes que apareceram na categoria Amazon\n",
    "n_palavras_amazon = len(palavras_amazon) # Variável que armazena a quantidade de palavras na categoria Amazon"
   ]
  },
  {
   "cell_type": "code",
   "execution_count": 156,
   "metadata": {},
   "outputs": [],
   "source": [
    "palavras_livro = ''\n",
    "\n",
    "livro = train.loc[train['Target'] == 'Comentários sobre o livro', ['Mensagem']]\n",
    "livro = livro.reset_index(drop=True)\n",
    "\n",
    "for i in range(len(livro['Mensagem'])):\n",
    "    palavras_livro += livro['Mensagem'][i] + ' '\n",
    "\n",
    "palavras_livro_lista = palavras_livro.split()\n",
    "palavras_livro = pd.Series(palavras_livro_lista)\n",
    "P_palavra_dado_livro = palavras_livro.value_counts() # Variável que armazena as palavras e suas respectivas quantidades de vezes que apareceram na categoria Livros\n",
    "n_palavras_livro = len(palavras_livro) # Variável que armazena a quantidade de palavras na categoria Livros"
   ]
  },
  {
   "cell_type": "code",
   "execution_count": 157,
   "metadata": {},
   "outputs": [],
   "source": [
    "palavras_outros = ''\n",
    "\n",
    "outros = train.loc[train['Target'] == 'Outros', ['Mensagem']]\n",
    "outros = outros.reset_index(drop=True)\n",
    "\n",
    "for i in range(len(outros['Mensagem'])):\n",
    "    palavras_outros += outros['Mensagem'][i] + ' '\n",
    "\n",
    "palavras_outros_lista = palavras_outros.split()\n",
    "palavras_outros = pd.Series(palavras_outros_lista)\n",
    "P_palavra_dado_outros = palavras_outros.value_counts() # Variável que armazena as palavras e suas respectivas quantidades de vezes que apareceram na categoria Outros\n",
    "n_palavras_outros = len(palavras_outros) # Variável que armazena a quantidade de palavras na categoria Outros"
   ]
  },
  {
   "cell_type": "markdown",
   "metadata": {},
   "source": [
    "___\n",
    "### Verificando a performance do Classificador\n",
    "\n",
    "Aqui testaremos o nosso classificador utilizando os métodos de Naive Bayes e Suavização de Laplace"
   ]
  },
  {
   "cell_type": "code",
   "execution_count": 158,
   "metadata": {},
   "outputs": [],
   "source": [
    "for i, frase in test['Mensagem'].items():\n",
    "    frase = frase.split()\n",
    "    prob_amazon = 1\n",
    "    prob_livro = 1\n",
    "    prob_outros = 1\n",
    "    for palavra in frase:\n",
    "        if palavra not in palavras_amazon_lista:\n",
    "            prob_amazon *= (0 + 1)/(n_palavras_amazon + n_palavras_diff) * 10e2\n",
    "        else:\n",
    "            prob_amazon *= (P_palavra_dado_amazon[palavra] + 1)/(n_palavras_amazon + n_palavras_diff) * 10e2\n",
    "        \n",
    "        if palavra not in palavras_livro_lista:\n",
    "            prob_livro *= (0 + 1)/(n_palavras_livro + n_palavras_diff) * 10e2\n",
    "        else:\n",
    "            prob_livro *= (P_palavra_dado_livro[palavra] + 1)/(n_palavras_livro + n_palavras_diff) * 10e2\n",
    "        \n",
    "        if palavra not in palavras_outros_lista:\n",
    "            prob_outros *= (0 + 1)/(n_palavras_outros + n_palavras_diff) * 10e2\n",
    "        else:\n",
    "            prob_outros *= (P_palavra_dado_outros[palavra] + 1)/(n_palavras_outros + n_palavras_diff) * 10e2\n",
    "    \n",
    "    if prob_amazon > prob_livro and prob_amazon > prob_outros:\n",
    "        test.loc[i, 'Predição'] = 'Problemas com a Amazon'\n",
    "    elif prob_livro > prob_amazon and prob_livro > prob_outros:\n",
    "        test.loc[i, 'Predição'] = 'Comentários sobre o livro'\n",
    "    elif prob_outros > prob_amazon and prob_outros > prob_livro:\n",
    "        test.loc[i, 'Predição'] = 'Outros'"
   ]
  },
  {
   "cell_type": "code",
   "execution_count": 159,
   "metadata": {},
   "outputs": [],
   "source": [
    "test['Predição'] = test['Predição'].astype('category')\n",
    "\n",
    "test['Predição'] = test['Predição'].cat.reorder_categories(['Problemas com a Amazon', 'Comentários sobre o livro', 'Outros'])"
   ]
  },
  {
   "cell_type": "code",
   "execution_count": 160,
   "metadata": {},
   "outputs": [
    {
     "data": {
      "text/html": [
       "<div>\n",
       "<style scoped>\n",
       "    .dataframe tbody tr th:only-of-type {\n",
       "        vertical-align: middle;\n",
       "    }\n",
       "\n",
       "    .dataframe tbody tr th {\n",
       "        vertical-align: top;\n",
       "    }\n",
       "\n",
       "    .dataframe thead th {\n",
       "        text-align: right;\n",
       "    }\n",
       "</style>\n",
       "<table border=\"1\" class=\"dataframe\">\n",
       "  <thead>\n",
       "    <tr style=\"text-align: right;\">\n",
       "      <th>Target</th>\n",
       "      <th>Problemas com a Amazon</th>\n",
       "      <th>Comentários sobre o livro</th>\n",
       "      <th>Outros</th>\n",
       "    </tr>\n",
       "    <tr>\n",
       "      <th>Predição</th>\n",
       "      <th></th>\n",
       "      <th></th>\n",
       "      <th></th>\n",
       "    </tr>\n",
       "  </thead>\n",
       "  <tbody>\n",
       "    <tr>\n",
       "      <th>Problemas com a Amazon</th>\n",
       "      <td>0.190</td>\n",
       "      <td>0.030</td>\n",
       "      <td>0.055</td>\n",
       "    </tr>\n",
       "    <tr>\n",
       "      <th>Comentários sobre o livro</th>\n",
       "      <td>0.000</td>\n",
       "      <td>0.540</td>\n",
       "      <td>0.040</td>\n",
       "    </tr>\n",
       "    <tr>\n",
       "      <th>Outros</th>\n",
       "      <td>0.005</td>\n",
       "      <td>0.095</td>\n",
       "      <td>0.045</td>\n",
       "    </tr>\n",
       "  </tbody>\n",
       "</table>\n",
       "</div>"
      ],
      "text/plain": [
       "Target                     Problemas com a Amazon  Comentários sobre o livro  \\\n",
       "Predição                                                                       \n",
       "Problemas com a Amazon                      0.190                      0.030   \n",
       "Comentários sobre o livro                   0.000                      0.540   \n",
       "Outros                                      0.005                      0.095   \n",
       "\n",
       "Target                     Outros  \n",
       "Predição                           \n",
       "Problemas com a Amazon      0.055  \n",
       "Comentários sobre o livro   0.040  \n",
       "Outros                      0.045  "
      ]
     },
     "execution_count": 160,
     "metadata": {},
     "output_type": "execute_result"
    }
   ],
   "source": [
    "tabela = pd.crosstab(test['Predição'], test['Target'], normalize='all')\n",
    "tabela"
   ]
  },
  {
   "cell_type": "code",
   "execution_count": 161,
   "metadata": {},
   "outputs": [
    {
     "name": "stdout",
     "output_type": "stream",
     "text": [
      "Acurácia: 77.5%, \n",
      "Verdadeiros Amazon: 19.0%, \n",
      "Falsos Amazon: 8.5%, \n",
      "Verdadeiro Livro: 54.0%, \n",
      "Falso Livro: 4.0%, \n",
      "Verdadeiro Outros: 4.5%, \n",
      "Falso Outros: 10.0%\n"
     ]
    }
   ],
   "source": [
    "V_amazon = tabela['Problemas com a Amazon']['Problemas com a Amazon']\n",
    "F_amazon = tabela['Comentários sobre o livro']['Problemas com a Amazon'] + tabela['Outros']['Problemas com a Amazon']\n",
    "V_livro = tabela['Comentários sobre o livro']['Comentários sobre o livro']\n",
    "F_livro = tabela['Problemas com a Amazon']['Comentários sobre o livro'] + tabela['Outros']['Comentários sobre o livro']\n",
    "V_outros = tabela['Outros']['Outros']\n",
    "F_outros = tabela['Comentários sobre o livro']['Outros'] + tabela['Problemas com a Amazon']['Outros']\n",
    "Acur = V_amazon + V_livro + V_outros\n",
    "print(f'Acurácia: {Acur*100}%, \\nVerdadeiros Amazon: {V_amazon*100}%, \\nFalsos Amazon: {F_amazon*100}%, \\nVerdadeiro Livro: {V_livro*100}%, \\nFalso Livro: {F_livro*100}%, \\nVerdadeiro Outros: {V_outros*100}%, \\nFalso Outros: {F_outros*100}%')"
   ]
  },
  {
   "cell_type": "markdown",
   "metadata": {},
   "source": [
    "___\n",
    "## Concluindo"
   ]
  },
  {
   "cell_type": "markdown",
   "metadata": {},
   "source": [
    "### Interpretando os resultados do classificador\n",
    "Como mencionado anteriormente, nós somos funcionários da Amazon e gostaríamos de filtrar quais comentários são sobre problemas com a empresa e quais são relacionados com o livro. Para isso, utilizamos 3 targets na classificação das mensagens: Problemas com a Amazon, comentários sobre o livro e outros.\n",
    "\n",
    "\n",
    "<b>Acurácia</b>\n",
    "* A acurácia do classificador foi de 77,5%. Ou seja, um resultado bom, porém vale ressaltar que a base de dados de treinamento não apresentava equilíbrio entre as categorias o que pode tornar o algoritmo enviesado, por possuir mais dados para treinamento da categoria comentários sobre o livro.\n",
    "\n",
    "<b>Predições sobre a Amazon</b>\n",
    "* Dos comentários que eram sobre a Amazon, o classificador conseguiu acertar 69%, portanto é possível dizer, que é um resultado bom considerando a divisão desproporcional das categorias, que acabou influenciando negativamente nas predições.\n",
    "\n",
    "<b>Predições sobre os Livros</b>\n",
    "* Dos comentários que eram sobre Livros, o classificador conseguiu acertar 93.1%. Isso pode ser explicado pelo desequilíbrio da base de dados treino, fazendo oo algoritmo ficar melhor em prever comentários sobre o livro.\n",
    "\n",
    "<b>Predições sobre Outros</b>\n",
    "* Dos comentários que eram sobre Outros, o classificador conseguiu acertar 31%, a predição dessa categoria foi a que teve oo pior resultado, o que pode ser explicado por ser também a categoria que possui menos dados na base de dados de treino do algoritmo.\n",
    "\n",
    "<b>Mensagens de dupla negação e sarcásticas</b>\n",
    "* O classificador não consegue identificar mensagens de dupla negação e sarcásticas, pois ele não consegue identificar o contexto da mensagem, apenas as palavras que estão sendo utilizadas.\n",
    "\n",
    "<b>Plano de expansão</b>\n",
    "* Para melhorar a acurácia do classificador, uma próxima etapa seria homogenizar a quantidade de comentários de cada categoria, para que o classificador não tenha uma tendência a classificar os comentários como \"Livro\", pois é a categoria com mais comentários.\n",
    "\n",
    "* Para melhorar o tratamento das mensagens da base de dados e consequentemente a performance, é interessante utilizar outras técnicas de limpeza, como por exemplo, o Lemmatization, que é uma técnica que reduz as palavras para o seu radical para poder analisar pelo puro significado delas, por exemplo, \"correr\", \"correndo\", \"correu\" e \"corrida\" são reduzidas para \"corre\"."
   ]
  },
  {
   "cell_type": "markdown",
   "metadata": {},
   "source": [
    "___\n",
    "### Qualidade do Classificador a partir de novas separações dos tweets entre Treinamento e Teste\n"
   ]
  },
  {
   "cell_type": "code",
   "execution_count": 162,
   "metadata": {},
   "outputs": [],
   "source": [
    "import sklearn.model_selection as skl"
   ]
  },
  {
   "cell_type": "code",
   "execution_count": 163,
   "metadata": {},
   "outputs": [],
   "source": [
    "dados_100 = pd.concat([train_100, test_100])\n",
    "dados_100 = dados_100.reset_index(drop=True)"
   ]
  },
  {
   "cell_type": "code",
   "execution_count": 164,
   "metadata": {},
   "outputs": [],
   "source": [
    "Acur_lista = []\n",
    "verdadeiros_positivos = []\n",
    "verdadeiros_negativos = []"
   ]
  },
  {
   "cell_type": "code",
   "execution_count": 165,
   "metadata": {},
   "outputs": [],
   "source": [
    "def calcular_estatisticas_categoria(categoria):\n",
    "    mensagens_categoria = train[train['Target'] == categoria]['Mensagem']\n",
    "    palavras_categoria = ' '.join(mensagens_categoria)\n",
    "    palavras_categoria = pd.Series(palavras_categoria.split())\n",
    "    P_palavra_dado_categoria = palavras_categoria.value_counts()\n",
    "    n_palavras_categoria = len(palavras_categoria)\n",
    "    return P_palavra_dado_categoria, n_palavras_categoria\n",
    "\n",
    "Acur_lista = []\n",
    "\n",
    "for rs in range(100):\n",
    "    train, test = skl.train_test_split(dados_100, test_size=0.4, random_state=rs)\n",
    "    train = train.reset_index(drop=True)\n",
    "    test = test.reset_index(drop=True)\n",
    "\n",
    "    train['Mensagem'] = train['Mensagem'].astype('category')\n",
    "    train['Target'] = train['Target'].astype('category')\n",
    "\n",
    "    test['Mensagem'] = test['Mensagem'].astype('category')\n",
    "    test['Target'] = test['Target'].astype('category')\n",
    "\n",
    "    tabela_relativa = train.Target.value_counts(normalize=True)\n",
    "\n",
    "    P_amazon = tabela_relativa[1]\n",
    "    P_livro = tabela_relativa[2]\n",
    "    P_outros = tabela_relativa[3]\n",
    "\n",
    "    # Total de palavras diferentes na base\n",
    "    palavras = ' '.join(train['Mensagem']).split()\n",
    "    palavras = pd.Series(list(set(palavras)))\n",
    "    n_palavras_diff = len(palavras)\n",
    "\n",
    "    # Calcular estatísticas para cada categoria\n",
    "    P_palavra_dado_amazon, n_palavras_amazon = calcular_estatisticas_categoria(1)\n",
    "    P_palavra_dado_livro, n_palavras_livro = calcular_estatisticas_categoria(2)\n",
    "    P_palavra_dado_outros, n_palavras_outros = calcular_estatisticas_categoria(3)\n",
    "\n",
    "    # Verificando a probabilidade de cada frase pertencer a cada categoria\n",
    "    test['Predição'] = 0  # Inicializa com 0\n",
    "\n",
    "    for i, frase in enumerate(test['Mensagem']):\n",
    "        palavras_frase = frase.split()\n",
    "        prob_amazon = np.prod([(P_palavra_dado_amazon.get(palavra, 0) + 1) / (n_palavras_amazon + n_palavras_diff) * 10e2 for palavra in palavras_frase])\n",
    "        prob_livro = np.prod([(P_palavra_dado_livro.get(palavra, 0) + 1) / (n_palavras_livro + n_palavras_diff) * 10e2 for palavra in palavras_frase])\n",
    "        prob_outros = np.prod([(P_palavra_dado_outros.get(palavra, 0) + 1) / (n_palavras_outros + n_palavras_diff) * 10e2 for palavra in palavras_frase])\n",
    "        \n",
    "        if prob_amazon > prob_livro and prob_amazon > prob_outros:\n",
    "            test.loc[i, 'Predição'] = 1\n",
    "        elif prob_livro > prob_amazon and prob_livro > prob_outros:\n",
    "            test.loc[i, 'Predição'] = 2\n",
    "        elif prob_outros > prob_amazon and prob_outros > prob_livro:\n",
    "            test.loc[i, 'Predição'] = 3\n",
    "\n",
    "    test['Predição'] = test['Predição'].astype('category')\n",
    "    test['Predição'] = test['Predição'].cat.reorder_categories([1, 2, 3])\n",
    "\n",
    "    tabela = pd.crosstab(test['Predição'], test['Target'], normalize='all')\n",
    "    V_amazon = tabela[1][1]\n",
    "    V_livro = tabela[2][2]\n",
    "    V_outros = tabela[3][3]\n",
    "    Acur = V_amazon + V_livro + V_outros\n",
    "    Acur_lista.append(Acur*100)"
   ]
  },
  {
   "cell_type": "code",
   "execution_count": 166,
   "metadata": {},
   "outputs": [
    {
     "data": {
      "text/html": [
       "<div>\n",
       "<style scoped>\n",
       "    .dataframe tbody tr th:only-of-type {\n",
       "        vertical-align: middle;\n",
       "    }\n",
       "\n",
       "    .dataframe tbody tr th {\n",
       "        vertical-align: top;\n",
       "    }\n",
       "\n",
       "    .dataframe thead th {\n",
       "        text-align: right;\n",
       "    }\n",
       "</style>\n",
       "<table border=\"1\" class=\"dataframe\">\n",
       "  <thead>\n",
       "    <tr style=\"text-align: right;\">\n",
       "      <th></th>\n",
       "      <th>0</th>\n",
       "    </tr>\n",
       "  </thead>\n",
       "  <tbody>\n",
       "    <tr>\n",
       "      <th>count</th>\n",
       "      <td>100.000000</td>\n",
       "    </tr>\n",
       "    <tr>\n",
       "      <th>mean</th>\n",
       "      <td>76.705000</td>\n",
       "    </tr>\n",
       "    <tr>\n",
       "      <th>std</th>\n",
       "      <td>2.697825</td>\n",
       "    </tr>\n",
       "    <tr>\n",
       "      <th>min</th>\n",
       "      <td>69.000000</td>\n",
       "    </tr>\n",
       "    <tr>\n",
       "      <th>25%</th>\n",
       "      <td>75.000000</td>\n",
       "    </tr>\n",
       "    <tr>\n",
       "      <th>50%</th>\n",
       "      <td>76.500000</td>\n",
       "    </tr>\n",
       "    <tr>\n",
       "      <th>75%</th>\n",
       "      <td>78.500000</td>\n",
       "    </tr>\n",
       "    <tr>\n",
       "      <th>max</th>\n",
       "      <td>82.500000</td>\n",
       "    </tr>\n",
       "  </tbody>\n",
       "</table>\n",
       "</div>"
      ],
      "text/plain": [
       "                0\n",
       "count  100.000000\n",
       "mean    76.705000\n",
       "std      2.697825\n",
       "min     69.000000\n",
       "25%     75.000000\n",
       "50%     76.500000\n",
       "75%     78.500000\n",
       "max     82.500000"
      ]
     },
     "execution_count": 166,
     "metadata": {},
     "output_type": "execute_result"
    }
   ],
   "source": [
    "pd.DataFrame(Acur_lista).describe()"
   ]
  },
  {
   "cell_type": "code",
   "execution_count": 167,
   "metadata": {},
   "outputs": [
    {
     "data": {
      "image/png": "[encoded data removed]",
      "text/plain": [
       "<Figure size 2000x600 with 1 Axes>"
      ]
     },
     "metadata": {},
     "output_type": "display_data"
    }
   ],
   "source": [
    "amp = np.arange(69, 82.5, 1.3)\n",
    "\n",
    "plt.figure(figsize=(20, 6))\n",
    "plt.subplot(121)\n",
    "plt.hist(Acur_lista, bins=amp, density=True, edgecolor=\"black\")\n",
    "plt.title(\"Acurácia do classificador\")\n",
    "plt.xlabel(\"Acurácia (%)\")\n",
    "plt.ylabel(\"Densidade\")\n",
    "plt.xticks(amp)\n",
    "plt.show()"
   ]
  },
  {
   "cell_type": "markdown",
   "metadata": {},
   "source": [
    "### Análise do histograma\n",
    "* Com base no histograma, a faixa de acurácia com mais ocorrência, ou seja, maior densidade, foi a de 75.5% até 76.8%, e as demais probabilidades de distribuem em torno disso, sendo as faixas mais a esquerda com densidade menor. Ou seja, é um histograma com assimetria à esquerda, o que indica ser um resultado bom, porém vale ressaltar que a base de dados de treinamento não apresentava equilíbrio entre as categorias o que pode tornar o algoritmo enviesado, por possuir mais dados para treinamento da categoria comentários sobre o livro."
   ]
  },
  {
   "cell_type": "markdown",
   "metadata": {},
   "source": [
    "___\n",
    "## Aperfeiçoamento:\n",
    "\n",
    "### Diferentes cenários para o classificador Naive-Bayes\n",
    "* <b>Detector de plágio em texto de alunos</b> : A partir de uma base de dados com textos gerados por inteligências artificiais, é possível comparar as identidades textuais dos alunos com a da máquina a fim de identificar algum plágio.\n",
    "\n",
    "* <b>Detecção de Tópicos de Interesse</b> : Em aplicações de recomendação, o Naive-Bayes pode ajudar a identificar tópicos de interesse do usuário, analisando os textos que o usuário lê ou interage com regularidade.\n",
    "\n",
    "### Porquê não podemos utilizar o próprio classificador para gerar mais amostras?\n",
    "* Não é recomendado utilizar o próprio classificador para gerar mais amostras pois como é um classificador Naive-Bayes, ele assume que as palavras são independentes entre si, o que não é verdade. Além disso, o classificador pode acabar se tornando enviesado, pois ele vai acabar classificando os comentários de acordo com a base de dados que ele já tem, o que pode acabar gerando um classificador que não é tão eficiente."
   ]
  },
  {
   "cell_type": "markdown",
   "metadata": {},
   "source": [
    "___\n",
    "## Referências"
   ]
  },
  {
   "cell_type": "markdown",
   "metadata": {},
   "source": [
    "[Naive Bayes and Text Classification](https://arxiv.org/pdf/1410.5329.pdf)  **Mais completo**\n",
    "\n",
    "[A practical explanation of a Naive Bayes Classifier](https://monkeylearn.com/blog/practical-explanation-naive-bayes-classifier/) **Mais simples**"
   ]
  }
 ],
 "metadata": {
  "kernelspec": {
   "display_name": "Python 3",
   "language": "python",
   "name": "python3"
  },
  "language_info": {
   "codemirror_mode": {
    "name": "ipython",
    "version": 3
   },
   "file_extension": ".py",
   "mimetype": "text/x-python",
   "name": "python",
   "nbconvert_exporter": "python",
   "pygments_lexer": "ipython3",
   "version": "3.11.5"
  }
 },
 "nbformat": 4,
 "nbformat_minor": 4
}
