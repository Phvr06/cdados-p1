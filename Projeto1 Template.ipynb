{
 "cells": [
  {
   "cell_type": "markdown",
   "metadata": {},
   "source": [
    "# Projeto 1 - Ciência dos Dados"
   ]
  },
  {
   "cell_type": "markdown",
   "metadata": {},
   "source": [
    "Nome: Pedro Henrique\n",
    "\n",
    "Nome: Vitor Katakura"
   ]
  },
  {
   "cell_type": "markdown",
   "metadata": {},
   "source": [
    "Atenção: Serão permitidos grupos de três pessoas, mas com uma rubrica mais exigente. Grupos deste tamanho precisarão fazer um questionário de avaliação de trabalho em equipe"
   ]
  },
  {
   "cell_type": "markdown",
   "metadata": {},
   "source": [
    "___\n",
    "Carregando algumas bibliotecas:"
   ]
  },
  {
   "cell_type": "code",
   "execution_count": 2015,
   "metadata": {},
   "outputs": [],
   "source": [
    "%matplotlib inline\n",
    "import pandas as pd\n",
    "import matplotlib.pyplot as plt\n",
    "import numpy as np\n",
    "import os"
   ]
  },
  {
   "cell_type": "code",
   "execution_count": 2016,
   "metadata": {
    "scrolled": false
   },
   "outputs": [
    {
     "name": "stdout",
     "output_type": "stream",
     "text": [
      "Esperamos trabalhar no diretório\n",
      "c:\\Users\\PH\\Desktop\\Repositorios\\cdados-p1\n"
     ]
    }
   ],
   "source": [
    "print('Esperamos trabalhar no diretório')\n",
    "print(os.getcwd())"
   ]
  },
  {
   "cell_type": "markdown",
   "metadata": {},
   "source": [
    "Carregando a base de dados com os tweets classificados manualmente:"
   ]
  },
  {
   "cell_type": "code",
   "execution_count": 2017,
   "metadata": {},
   "outputs": [
    {
     "data": {
      "text/html": [
       "<div>\n",
       "<style scoped>\n",
       "    .dataframe tbody tr th:only-of-type {\n",
       "        vertical-align: middle;\n",
       "    }\n",
       "\n",
       "    .dataframe tbody tr th {\n",
       "        vertical-align: top;\n",
       "    }\n",
       "\n",
       "    .dataframe thead th {\n",
       "        text-align: right;\n",
       "    }\n",
       "</style>\n",
       "<table border=\"1\" class=\"dataframe\">\n",
       "  <thead>\n",
       "    <tr style=\"text-align: right;\">\n",
       "      <th></th>\n",
       "      <th>Mensagem</th>\n",
       "      <th>Target</th>\n",
       "      <th>Unnamed: 2</th>\n",
       "      <th>Unnamed: 3</th>\n",
       "      <th>Unnamed: 4</th>\n",
       "    </tr>\n",
       "  </thead>\n",
       "  <tbody>\n",
       "    <tr>\n",
       "      <th>0</th>\n",
       "      <td>Bem, eu nem sei por onde começar. A história é...</td>\n",
       "      <td>2</td>\n",
       "      <td>NaN</td>\n",
       "      <td>NaN</td>\n",
       "      <td>NaN</td>\n",
       "    </tr>\n",
       "    <tr>\n",
       "      <th>1</th>\n",
       "      <td>Não gostei!, acabou com a expectativa que os o...</td>\n",
       "      <td>2</td>\n",
       "      <td>NaN</td>\n",
       "      <td>LEGENDA</td>\n",
       "      <td>NaN</td>\n",
       "    </tr>\n",
       "    <tr>\n",
       "      <th>2</th>\n",
       "      <td>Venho por meio deste, expressar meu desapontam...</td>\n",
       "      <td>1</td>\n",
       "      <td>NaN</td>\n",
       "      <td>1</td>\n",
       "      <td>Problemas com a Amazon</td>\n",
       "    </tr>\n",
       "    <tr>\n",
       "      <th>3</th>\n",
       "      <td>O começo do livro é bastante interessante, qun...</td>\n",
       "      <td>2</td>\n",
       "      <td>NaN</td>\n",
       "      <td>2</td>\n",
       "      <td>Comentarios sobre o livro</td>\n",
       "    </tr>\n",
       "    <tr>\n",
       "      <th>4</th>\n",
       "      <td>Veder essa porcaria como se fosse História é u...</td>\n",
       "      <td>2</td>\n",
       "      <td>NaN</td>\n",
       "      <td>3</td>\n",
       "      <td>Outros</td>\n",
       "    </tr>\n",
       "  </tbody>\n",
       "</table>\n",
       "</div>"
      ],
      "text/plain": [
       "                                            Mensagem  Target  Unnamed: 2  \\\n",
       "0  Bem, eu nem sei por onde começar. A história é...       2         NaN   \n",
       "1  Não gostei!, acabou com a expectativa que os o...       2         NaN   \n",
       "2  Venho por meio deste, expressar meu desapontam...       1         NaN   \n",
       "3  O começo do livro é bastante interessante, qun...       2         NaN   \n",
       "4  Veder essa porcaria como se fosse História é u...       2         NaN   \n",
       "\n",
       "  Unnamed: 3                 Unnamed: 4  \n",
       "0        NaN                        NaN  \n",
       "1    LEGENDA                        NaN  \n",
       "2          1     Problemas com a Amazon  \n",
       "3          2  Comentarios sobre o livro  \n",
       "4          3                     Outros  "
      ]
     },
     "execution_count": 2017,
     "metadata": {},
     "output_type": "execute_result"
    }
   ],
   "source": [
    "train = pd.read_excel('dados_treino.xlsx')\n",
    "train.head(5)"
   ]
  },
  {
   "cell_type": "code",
   "execution_count": 2018,
   "metadata": {},
   "outputs": [
    {
     "data": {
      "text/html": [
       "<div>\n",
       "<style scoped>\n",
       "    .dataframe tbody tr th:only-of-type {\n",
       "        vertical-align: middle;\n",
       "    }\n",
       "\n",
       "    .dataframe tbody tr th {\n",
       "        vertical-align: top;\n",
       "    }\n",
       "\n",
       "    .dataframe thead th {\n",
       "        text-align: right;\n",
       "    }\n",
       "</style>\n",
       "<table border=\"1\" class=\"dataframe\">\n",
       "  <thead>\n",
       "    <tr style=\"text-align: right;\">\n",
       "      <th></th>\n",
       "      <th>Mensagem</th>\n",
       "      <th>Target</th>\n",
       "      <th>Unnamed: 2</th>\n",
       "      <th>Unnamed: 3</th>\n",
       "      <th>Unnamed: 4</th>\n",
       "    </tr>\n",
       "  </thead>\n",
       "  <tbody>\n",
       "    <tr>\n",
       "      <th>0</th>\n",
       "      <td>O livro fala de um contexto bastante interessa...</td>\n",
       "      <td>2</td>\n",
       "      <td>NaN</td>\n",
       "      <td>NaN</td>\n",
       "      <td>NaN</td>\n",
       "    </tr>\n",
       "    <tr>\n",
       "      <th>1</th>\n",
       "      <td>Estava muito empolgada com 90% do livro. As co...</td>\n",
       "      <td>2</td>\n",
       "      <td>NaN</td>\n",
       "      <td>LEGENDA</td>\n",
       "      <td>NaN</td>\n",
       "    </tr>\n",
       "    <tr>\n",
       "      <th>2</th>\n",
       "      <td>História maluca e que não te leva a nada, uma ...</td>\n",
       "      <td>2</td>\n",
       "      <td>NaN</td>\n",
       "      <td>1</td>\n",
       "      <td>Problemas com a Amazon</td>\n",
       "    </tr>\n",
       "    <tr>\n",
       "      <th>3</th>\n",
       "      <td>O autor tenta mostrar outro lado do livro, bus...</td>\n",
       "      <td>2</td>\n",
       "      <td>NaN</td>\n",
       "      <td>2</td>\n",
       "      <td>Comentarios sobre o livro</td>\n",
       "    </tr>\n",
       "    <tr>\n",
       "      <th>4</th>\n",
       "      <td>Maçante, fantasioso. Uma ficção vista pelo ret...</td>\n",
       "      <td>2</td>\n",
       "      <td>NaN</td>\n",
       "      <td>3</td>\n",
       "      <td>Outros</td>\n",
       "    </tr>\n",
       "  </tbody>\n",
       "</table>\n",
       "</div>"
      ],
      "text/plain": [
       "                                            Mensagem  Target  Unnamed: 2  \\\n",
       "0  O livro fala de um contexto bastante interessa...       2         NaN   \n",
       "1  Estava muito empolgada com 90% do livro. As co...       2         NaN   \n",
       "2  História maluca e que não te leva a nada, uma ...       2         NaN   \n",
       "3  O autor tenta mostrar outro lado do livro, bus...       2         NaN   \n",
       "4  Maçante, fantasioso. Uma ficção vista pelo ret...       2         NaN   \n",
       "\n",
       "  Unnamed: 3                 Unnamed: 4  \n",
       "0        NaN                        NaN  \n",
       "1    LEGENDA                        NaN  \n",
       "2          1     Problemas com a Amazon  \n",
       "3          2  Comentarios sobre o livro  \n",
       "4          3                     Outros  "
      ]
     },
     "execution_count": 2018,
     "metadata": {},
     "output_type": "execute_result"
    }
   ],
   "source": [
    "test = pd.read_excel('dados_teste.xlsx')\n",
    "test.head(5)"
   ]
  },
  {
   "cell_type": "markdown",
   "metadata": {},
   "source": [
    "___\n",
    "## Classificador automático\n"
   ]
  },
  {
   "cell_type": "markdown",
   "metadata": {},
   "source": [
    "Faça aqui uma descrição do seu assunto e o que considerou como relevante ou não relevante na classificação dos tweets (Target).\n",
    "\n",
    "ESCREVA AQUI..."
   ]
  },
  {
   "cell_type": "markdown",
   "metadata": {},
   "source": [
    "___\n",
    "### Montando um Classificador Naive-Bayes\n",
    "\n",
    "Considerando apenas as mensagens da planilha Treinamento, ensine  seu classificador."
   ]
  },
  {
   "cell_type": "code",
   "execution_count": 2019,
   "metadata": {},
   "outputs": [],
   "source": [
    "legenda = {'Problemas com a Amazon': 1, 'Problemas com o Livro': 2, 'Outros': 3}"
   ]
  },
  {
   "cell_type": "code",
   "execution_count": 2020,
   "metadata": {},
   "outputs": [
    {
     "data": {
      "text/html": [
       "<div>\n",
       "<style scoped>\n",
       "    .dataframe tbody tr th:only-of-type {\n",
       "        vertical-align: middle;\n",
       "    }\n",
       "\n",
       "    .dataframe tbody tr th {\n",
       "        vertical-align: top;\n",
       "    }\n",
       "\n",
       "    .dataframe thead th {\n",
       "        text-align: right;\n",
       "    }\n",
       "</style>\n",
       "<table border=\"1\" class=\"dataframe\">\n",
       "  <thead>\n",
       "    <tr style=\"text-align: right;\">\n",
       "      <th></th>\n",
       "      <th>Mensagem</th>\n",
       "      <th>Target</th>\n",
       "    </tr>\n",
       "  </thead>\n",
       "  <tbody>\n",
       "    <tr>\n",
       "      <th>0</th>\n",
       "      <td>Bem, eu nem sei por onde começar. A história é...</td>\n",
       "      <td>2</td>\n",
       "    </tr>\n",
       "    <tr>\n",
       "      <th>1</th>\n",
       "      <td>Não gostei!, acabou com a expectativa que os o...</td>\n",
       "      <td>2</td>\n",
       "    </tr>\n",
       "    <tr>\n",
       "      <th>2</th>\n",
       "      <td>Venho por meio deste, expressar meu desapontam...</td>\n",
       "      <td>1</td>\n",
       "    </tr>\n",
       "    <tr>\n",
       "      <th>3</th>\n",
       "      <td>O começo do livro é bastante interessante, qun...</td>\n",
       "      <td>2</td>\n",
       "    </tr>\n",
       "    <tr>\n",
       "      <th>4</th>\n",
       "      <td>Veder essa porcaria como se fosse História é u...</td>\n",
       "      <td>2</td>\n",
       "    </tr>\n",
       "    <tr>\n",
       "      <th>...</th>\n",
       "      <td>...</td>\n",
       "      <td>...</td>\n",
       "    </tr>\n",
       "    <tr>\n",
       "      <th>295</th>\n",
       "      <td>Achei que o livro deu mais ênfase ao sexo do q...</td>\n",
       "      <td>2</td>\n",
       "    </tr>\n",
       "    <tr>\n",
       "      <th>296</th>\n",
       "      <td>Não recomendo. Honestamente não recomendo. O c...</td>\n",
       "      <td>2</td>\n",
       "    </tr>\n",
       "    <tr>\n",
       "      <th>297</th>\n",
       "      <td>depois de fazer o pedido que vi que era pocket...</td>\n",
       "      <td>1</td>\n",
       "    </tr>\n",
       "    <tr>\n",
       "      <th>298</th>\n",
       "      <td>A personagem principal parece sofrer de uma es...</td>\n",
       "      <td>2</td>\n",
       "    </tr>\n",
       "    <tr>\n",
       "      <th>299</th>\n",
       "      <td>É um daqueles livros de leitura rápida. Achei ...</td>\n",
       "      <td>2</td>\n",
       "    </tr>\n",
       "  </tbody>\n",
       "</table>\n",
       "<p>300 rows × 2 columns</p>\n",
       "</div>"
      ],
      "text/plain": [
       "                                              Mensagem  Target\n",
       "0    Bem, eu nem sei por onde começar. A história é...       2\n",
       "1    Não gostei!, acabou com a expectativa que os o...       2\n",
       "2    Venho por meio deste, expressar meu desapontam...       1\n",
       "3    O começo do livro é bastante interessante, qun...       2\n",
       "4    Veder essa porcaria como se fosse História é u...       2\n",
       "..                                                 ...     ...\n",
       "295  Achei que o livro deu mais ênfase ao sexo do q...       2\n",
       "296  Não recomendo. Honestamente não recomendo. O c...       2\n",
       "297  depois de fazer o pedido que vi que era pocket...       1\n",
       "298  A personagem principal parece sofrer de uma es...       2\n",
       "299  É um daqueles livros de leitura rápida. Achei ...       2\n",
       "\n",
       "[300 rows x 2 columns]"
      ]
     },
     "execution_count": 2020,
     "metadata": {},
     "output_type": "execute_result"
    }
   ],
   "source": [
    "train = train.loc[:,['Mensagem', 'Target']]\n",
    "test = test.loc[:,['Mensagem', 'Target']]\n",
    "train"
   ]
  },
  {
   "cell_type": "code",
   "execution_count": 2021,
   "metadata": {},
   "outputs": [],
   "source": [
    "import re \n",
    "\n",
    "def cleanup(text):\n",
    "    \"\"\"\n",
    "        Função de limpeza muito simples que troca alguns sinais básicos por espaços\n",
    "    \"\"\"\n",
    "    #import string\n",
    "    punctuation = r'[\\`\\\"\\!\\-\\.\\:\\?\\;\\$\\'\\,]' # Note que os sinais [] são delimitadores de um conjunto.\n",
    "    pattern = re.compile(punctuation)\n",
    "    text_subbed = re.sub(pattern, '', text)\n",
    "    text_subbed = text_subbed.lower()\n",
    "    return text_subbed"
   ]
  },
  {
   "cell_type": "code",
   "execution_count": 2022,
   "metadata": {},
   "outputs": [],
   "source": [
    "train['Mensagem'] = train['Mensagem'].apply(cleanup)"
   ]
  },
  {
   "cell_type": "code",
   "execution_count": 2023,
   "metadata": {},
   "outputs": [
    {
     "data": {
      "text/html": [
       "<div>\n",
       "<style scoped>\n",
       "    .dataframe tbody tr th:only-of-type {\n",
       "        vertical-align: middle;\n",
       "    }\n",
       "\n",
       "    .dataframe tbody tr th {\n",
       "        vertical-align: top;\n",
       "    }\n",
       "\n",
       "    .dataframe thead th {\n",
       "        text-align: right;\n",
       "    }\n",
       "</style>\n",
       "<table border=\"1\" class=\"dataframe\">\n",
       "  <thead>\n",
       "    <tr style=\"text-align: right;\">\n",
       "      <th></th>\n",
       "      <th>Mensagem</th>\n",
       "      <th>Target</th>\n",
       "    </tr>\n",
       "  </thead>\n",
       "  <tbody>\n",
       "    <tr>\n",
       "      <th>0</th>\n",
       "      <td>bem eu nem sei por onde começar a história é a...</td>\n",
       "      <td>2</td>\n",
       "    </tr>\n",
       "    <tr>\n",
       "      <th>1</th>\n",
       "      <td>não gostei acabou com a expectativa que os out...</td>\n",
       "      <td>2</td>\n",
       "    </tr>\n",
       "    <tr>\n",
       "      <th>2</th>\n",
       "      <td>venho por meio deste expressar meu desapontame...</td>\n",
       "      <td>1</td>\n",
       "    </tr>\n",
       "    <tr>\n",
       "      <th>3</th>\n",
       "      <td>o começo do livro é bastante interessante qund...</td>\n",
       "      <td>2</td>\n",
       "    </tr>\n",
       "    <tr>\n",
       "      <th>4</th>\n",
       "      <td>veder essa porcaria como se fosse história é u...</td>\n",
       "      <td>2</td>\n",
       "    </tr>\n",
       "    <tr>\n",
       "      <th>...</th>\n",
       "      <td>...</td>\n",
       "      <td>...</td>\n",
       "    </tr>\n",
       "    <tr>\n",
       "      <th>295</th>\n",
       "      <td>achei que o livro deu mais ênfase ao sexo do q...</td>\n",
       "      <td>2</td>\n",
       "    </tr>\n",
       "    <tr>\n",
       "      <th>296</th>\n",
       "      <td>não recomendo honestamente não recomendo o con...</td>\n",
       "      <td>2</td>\n",
       "    </tr>\n",
       "    <tr>\n",
       "      <th>297</th>\n",
       "      <td>depois de fazer o pedido que vi que era pocket...</td>\n",
       "      <td>1</td>\n",
       "    </tr>\n",
       "    <tr>\n",
       "      <th>298</th>\n",
       "      <td>a personagem principal parece sofrer de uma es...</td>\n",
       "      <td>2</td>\n",
       "    </tr>\n",
       "    <tr>\n",
       "      <th>299</th>\n",
       "      <td>é um daqueles livros de leitura rápida achei b...</td>\n",
       "      <td>2</td>\n",
       "    </tr>\n",
       "  </tbody>\n",
       "</table>\n",
       "<p>300 rows × 2 columns</p>\n",
       "</div>"
      ],
      "text/plain": [
       "                                              Mensagem  Target\n",
       "0    bem eu nem sei por onde começar a história é a...       2\n",
       "1    não gostei acabou com a expectativa que os out...       2\n",
       "2    venho por meio deste expressar meu desapontame...       1\n",
       "3    o começo do livro é bastante interessante qund...       2\n",
       "4    veder essa porcaria como se fosse história é u...       2\n",
       "..                                                 ...     ...\n",
       "295  achei que o livro deu mais ênfase ao sexo do q...       2\n",
       "296  não recomendo honestamente não recomendo o con...       2\n",
       "297  depois de fazer o pedido que vi que era pocket...       1\n",
       "298  a personagem principal parece sofrer de uma es...       2\n",
       "299  é um daqueles livros de leitura rápida achei b...       2\n",
       "\n",
       "[300 rows x 2 columns]"
      ]
     },
     "execution_count": 2023,
     "metadata": {},
     "output_type": "execute_result"
    }
   ],
   "source": [
    "train"
   ]
  },
  {
   "cell_type": "code",
   "execution_count": 2024,
   "metadata": {},
   "outputs": [
    {
     "data": {
      "text/plain": [
       "0       Problemas com o Livro\n",
       "1       Problemas com o Livro\n",
       "2      Problemas com a Amazon\n",
       "3       Problemas com o Livro\n",
       "4       Problemas com o Livro\n",
       "                ...          \n",
       "295     Problemas com o Livro\n",
       "296     Problemas com o Livro\n",
       "297    Problemas com a Amazon\n",
       "298     Problemas com o Livro\n",
       "299     Problemas com o Livro\n",
       "Name: Target, Length: 300, dtype: category\n",
       "Categories (3, object): ['Problemas com a Amazon', 'Problemas com o Livro', 'Outros']"
      ]
     },
     "execution_count": 2024,
     "metadata": {},
     "output_type": "execute_result"
    }
   ],
   "source": [
    "train['Mensagem'] = train['Mensagem'].astype('category')\n",
    "train['Target'] = train['Target'].astype('category')\n",
    "\n",
    "train['Target'] = train['Target'].cat.rename_categories(['Problemas com a Amazon', 'Problemas com o Livro', 'Outros'])\n",
    "train.Target"
   ]
  },
  {
   "cell_type": "code",
   "execution_count": 2025,
   "metadata": {},
   "outputs": [],
   "source": [
    "P_targets = train.Target.value_counts(normalize=True)\n",
    "P1 = P_targets[0]\n",
    "P2 = P_targets[1]\n",
    "P3 = P_targets[2]"
   ]
  },
  {
   "cell_type": "code",
   "execution_count": 2026,
   "metadata": {},
   "outputs": [],
   "source": [
    "train_palavras = []\n",
    "train_split = train['Mensagem'].str.split()\n",
    "for palavra in train_split:\n",
    "    train_palavras.extend(palavra)\n",
    "\n",
    "train_palavras = pd.Series(train_palavras)\n",
    "# train_palavras = train_palavras.unique()\n",
    "# train_palavras = pd.Series(train_palavras)\n"
   ]
  },
  {
   "cell_type": "code",
   "execution_count": 2027,
   "metadata": {},
   "outputs": [],
   "source": [
    "train1 = train.loc[train.Target == list(legenda)[0], [\"Mensagem\"]]\n",
    "train_palavras1 = []\n",
    "train_split1 = train1['Mensagem'].str.split()\n",
    "for palavra in train_split1:\n",
    "    train_palavras1.extend(palavra)\n",
    "\n",
    "train_palavras1 = pd.Series(train_palavras1)\n",
    "# train_palavras1 = pd.concat([train_palavras1, train_palavras], ignore_index=True)\n",
    "\n",
    "train_palavras1_fr = train_palavras1.value_counts(normalize=True)"
   ]
  },
  {
   "cell_type": "code",
   "execution_count": 2028,
   "metadata": {},
   "outputs": [],
   "source": [
    "train2 = train.loc[train.Target == list(legenda)[1], [\"Mensagem\"]]\n",
    "train_palavras2 = []\n",
    "train_split2 = train2['Mensagem'].str.split()\n",
    "for palavra in train_split2:\n",
    "    train_palavras2.extend(palavra)\n",
    "\n",
    "train_palavras2 = pd.Series(train_palavras2)\n",
    "# train_palavras2 = pd.concat([train_palavras2, train_palavras], ignore_index=True)\n",
    "\n",
    "train_palavras2_fr = train_palavras2.value_counts(normalize=True)"
   ]
  },
  {
   "cell_type": "code",
   "execution_count": 2029,
   "metadata": {},
   "outputs": [],
   "source": [
    "train3 = train.loc[train.Target == list(legenda)[2], [\"Mensagem\"]]\n",
    "train_palavras3 = []\n",
    "train_split3 = train3['Mensagem'].str.split()\n",
    "for palavra in train_split3:\n",
    "    train_palavras3.extend(palavra)\n",
    "\n",
    "train_palavras3 = pd.Series(train_palavras3)\n",
    "# train_palavras3 = pd.concat([train_palavras3, train_palavras], ignore_index=True)\n",
    "train_palavras3_fr = train_palavras3.value_counts(normalize=True)"
   ]
  },
  {
   "cell_type": "markdown",
   "metadata": {},
   "source": [
    "___\n",
    "### Verificando a performance do Classificador\n",
    "\n",
    "Agora você deve testar o seu classificador com a base de Testes."
   ]
  },
  {
   "cell_type": "code",
   "execution_count": 2030,
   "metadata": {},
   "outputs": [],
   "source": [
    "test['Mensagem'] = test['Mensagem'].apply(cleanup)"
   ]
  },
  {
   "cell_type": "code",
   "execution_count": 2031,
   "metadata": {},
   "outputs": [],
   "source": [
    "test['Mensagem'] = test['Mensagem'].astype('category')\n",
    "test['Target'] = test['Target'].astype('category')\n",
    "\n",
    "test['Target'] = test['Target'].cat.rename_categories(['Problemas com a Amazon', 'Problemas com o Livro', 'Outros'])\n",
    "test.Target\n",
    "test['Algoritmo'] = 0"
   ]
  },
  {
   "cell_type": "code",
   "execution_count": 2032,
   "metadata": {},
   "outputs": [
    {
     "name": "stderr",
     "output_type": "stream",
     "text": [
      "C:\\Users\\PH\\AppData\\Local\\Temp\\ipykernel_8676\\1287724390.py:33: SettingWithCopyWarning: \n",
      "A value is trying to be set on a copy of a slice from a DataFrame\n",
      "\n",
      "See the caveats in the documentation: https://pandas.pydata.org/pandas-docs/stable/user_guide/indexing.html#returning-a-view-versus-a-copy\n",
      "  test['Algoritmo'][frase] = 'Outros'\n"
     ]
    }
   ],
   "source": [
    "test_split = test['Mensagem'].str.split()\n",
    "for frase in range(len(test_split)):\n",
    "    P_frase_1 = 1\n",
    "    P_frase_2 = 1\n",
    "    P_frase_3 = 1\n",
    "    for palavra in test_split[frase]:\n",
    "        try:\n",
    "            P_frase_1 *= train_palavras1_fr[palavra]\n",
    "        except KeyError:\n",
    "            palavra_erro = pd.Series(palavra)\n",
    "            train_palavras1 = pd.concat([train_palavras1, palavra_erro], ignore_index=True)\n",
    "            train_palavras1_fr = train_palavras1.value_counts(normalize=True)\n",
    "        try:    \n",
    "            P_frase_2 *= train_palavras2_fr[palavra]\n",
    "        except KeyError:\n",
    "            palavra_erro = pd.Series(palavra)\n",
    "            train_palavras2 = pd.concat([train_palavras2, palavra_erro], ignore_index=True)\n",
    "            train_palavras2_fr = train_palavras2.value_counts(normalize=True)\n",
    "        try:\n",
    "            P_frase_3 *= train_palavras3_fr[palavra]\n",
    "        except KeyError:\n",
    "            palavra_erro = pd.Series(palavra)\n",
    "            train_palavras3 = pd.concat([train_palavras3, palavra_erro], ignore_index=True)\n",
    "            train_palavras3_fr = train_palavras3.value_counts(normalize=True)\n",
    "    P_frase_1 *= P1\n",
    "    P_frase_2 *= P2\n",
    "    P_frase_3 *= P3\n",
    "    if P_frase_1 > P_frase_2 and P_frase_1 > P_frase_3:\n",
    "        test['Algoritmo'][frase] = 'Problemas com a Amazon'\n",
    "    elif P_frase_2 > P_frase_1 and P_frase_2 > P_frase_3:\n",
    "        test['Algoritmo'][frase] = 'Problemas com o Livro'\n",
    "    elif P_frase_3 > P_frase_1 and P_frase_3 > P_frase_2:\n",
    "        test['Algoritmo'][frase] = 'Outros'\n",
    "    else:\n",
    "        test['Algoritmo'][frase] = 'Erro'"
   ]
  },
  {
   "cell_type": "code",
   "execution_count": 2033,
   "metadata": {},
   "outputs": [
    {
     "data": {
      "text/html": [
       "<div>\n",
       "<style scoped>\n",
       "    .dataframe tbody tr th:only-of-type {\n",
       "        vertical-align: middle;\n",
       "    }\n",
       "\n",
       "    .dataframe tbody tr th {\n",
       "        vertical-align: top;\n",
       "    }\n",
       "\n",
       "    .dataframe thead th {\n",
       "        text-align: right;\n",
       "    }\n",
       "</style>\n",
       "<table border=\"1\" class=\"dataframe\">\n",
       "  <thead>\n",
       "    <tr style=\"text-align: right;\">\n",
       "      <th>Target</th>\n",
       "      <th>Problemas com a Amazon</th>\n",
       "      <th>Problemas com o Livro</th>\n",
       "      <th>Outros</th>\n",
       "    </tr>\n",
       "    <tr>\n",
       "      <th>Algoritmo</th>\n",
       "      <th></th>\n",
       "      <th></th>\n",
       "      <th></th>\n",
       "    </tr>\n",
       "  </thead>\n",
       "  <tbody>\n",
       "    <tr>\n",
       "      <th>Erro</th>\n",
       "      <td>1</td>\n",
       "      <td>10</td>\n",
       "      <td>1</td>\n",
       "    </tr>\n",
       "    <tr>\n",
       "      <th>Outros</th>\n",
       "      <td>18</td>\n",
       "      <td>37</td>\n",
       "      <td>10</td>\n",
       "    </tr>\n",
       "    <tr>\n",
       "      <th>Problemas com a Amazon</th>\n",
       "      <td>13</td>\n",
       "      <td>54</td>\n",
       "      <td>7</td>\n",
       "    </tr>\n",
       "    <tr>\n",
       "      <th>Problemas com o Livro</th>\n",
       "      <td>7</td>\n",
       "      <td>32</td>\n",
       "      <td>10</td>\n",
       "    </tr>\n",
       "  </tbody>\n",
       "</table>\n",
       "</div>"
      ],
      "text/plain": [
       "Target                  Problemas com a Amazon  Problemas com o Livro  Outros\n",
       "Algoritmo                                                                    \n",
       "Erro                                         1                     10       1\n",
       "Outros                                      18                     37      10\n",
       "Problemas com a Amazon                      13                     54       7\n",
       "Problemas com o Livro                        7                     32      10"
      ]
     },
     "execution_count": 2033,
     "metadata": {},
     "output_type": "execute_result"
    }
   ],
   "source": [
    "pd.crosstab(test.Algoritmo, test.Target)"
   ]
  },
  {
   "cell_type": "markdown",
   "metadata": {},
   "source": [
    "___\n",
    "### Concluindo"
   ]
  },
  {
   "cell_type": "code",
   "execution_count": null,
   "metadata": {},
   "outputs": [],
   "source": []
  },
  {
   "cell_type": "code",
   "execution_count": null,
   "metadata": {},
   "outputs": [],
   "source": []
  },
  {
   "cell_type": "code",
   "execution_count": null,
   "metadata": {},
   "outputs": [],
   "source": []
  },
  {
   "cell_type": "markdown",
   "metadata": {},
   "source": [
    "___\n",
    "### Qualidade do Classificador a partir de novas separações dos tweets entre Treinamento e Teste\n",
    "\n",
    "Caso for fazer esse item do Projeto"
   ]
  },
  {
   "cell_type": "code",
   "execution_count": null,
   "metadata": {},
   "outputs": [],
   "source": []
  },
  {
   "cell_type": "code",
   "execution_count": null,
   "metadata": {},
   "outputs": [],
   "source": []
  },
  {
   "cell_type": "code",
   "execution_count": null,
   "metadata": {},
   "outputs": [],
   "source": []
  },
  {
   "cell_type": "markdown",
   "metadata": {},
   "source": [
    "___\n",
    "## Aperfeiçoamento:\n",
    "\n",
    "Trabalhos que conseguirem pelo menos conceito B vão evoluir em conceito dependendo da quantidade de itens avançados:\n",
    "\n",
    "* IMPLEMENTOU outras limpezas e transformações que não afetem a qualidade da informação contida nos tweets. Ex: stemming, lemmatization, stopwords\n",
    "* CONSIDEROU mais de duas categorias na variável Target e INCREMENTOU a quantidade de notícias, mantendo pelo menos 250 notícias por categoria (OBRIGATÓRIO PARA TRIOS, sem contar como item avançado)\n",
    "* Para Target com duas categorias: CRIOU pelo menos quatro categorias intermediárias de relevância baseadas na probabilidade: ex.: muito relevante, relevante, neutro, irrelevante, muito irrelevante\n",
    "* EXPLICOU porquê não pode usar o próprio classificador para gerar mais amostras de treinamento\n",
    "* PROPÔS diferentes cenários para Naïve Bayes fora do contexto do projeto (pelo menos dois cenários, exceto aqueles já apresentados em sala pelos professores: por exemplo, filtro de spam)\n",
    "* SUGERIU e EXPLICOU melhorias reais com indicações concretas de como implementar (indicar como fazer e indicar material de pesquisa)\n",
    "* FEZ o item Qualidade do Classificador a partir de novas separações das Notícias entre Treinamento e Teste descrito no enunciado do projeto (OBRIGATÓRIO para conceitos A ou A+)"
   ]
  },
  {
   "cell_type": "markdown",
   "metadata": {},
   "source": [
    "___\n",
    "## Referências"
   ]
  },
  {
   "cell_type": "markdown",
   "metadata": {},
   "source": [
    "[Naive Bayes and Text Classification](https://arxiv.org/pdf/1410.5329.pdf)  **Mais completo**\n",
    "\n",
    "[A practical explanation of a Naive Bayes Classifier](https://monkeylearn.com/blog/practical-explanation-naive-bayes-classifier/) **Mais simples**"
   ]
  },
  {
   "cell_type": "code",
   "execution_count": null,
   "metadata": {},
   "outputs": [],
   "source": []
  }
 ],
 "metadata": {
  "kernelspec": {
   "display_name": "Python 3",
   "language": "python",
   "name": "python3"
  },
  "language_info": {
   "codemirror_mode": {
    "name": "ipython",
    "version": 3
   },
   "file_extension": ".py",
   "mimetype": "text/x-python",
   "name": "python",
   "nbconvert_exporter": "python",
   "pygments_lexer": "ipython3",
   "version": "3.11.4"
  }
 },
 "nbformat": 4,
 "nbformat_minor": 4
}
