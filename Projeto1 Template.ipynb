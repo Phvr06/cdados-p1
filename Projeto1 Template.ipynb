{
 "cells": [
  {
   "cell_type": "markdown",
   "metadata": {},
   "source": [
    "# Projeto 1 - Ciência dos Dados"
   ]
  },
  {
   "cell_type": "markdown",
   "metadata": {},
   "source": [
    "Nome: Pedro Henrique\n",
    "\n",
    "Nome: Vitor Katakura"
   ]
  },
  {
   "cell_type": "markdown",
   "metadata": {},
   "source": [
    "Atenção: Serão permitidos grupos de três pessoas, mas com uma rubrica mais exigente. Grupos deste tamanho precisarão fazer um questionário de avaliação de trabalho em equipe"
   ]
  },
  {
   "cell_type": "markdown",
   "metadata": {},
   "source": [
    "___\n",
    "Carregando algumas bibliotecas:"
   ]
  },
  {
   "cell_type": "code",
   "execution_count": 392,
   "metadata": {},
   "outputs": [],
   "source": [
    "%matplotlib inline\n",
    "import pandas as pd\n",
    "import matplotlib.pyplot as plt\n",
    "import numpy as np\n",
    "import os"
   ]
  },
  {
   "cell_type": "code",
   "execution_count": 393,
   "metadata": {
    "scrolled": false
   },
   "outputs": [
    {
     "name": "stdout",
     "output_type": "stream",
     "text": [
      "Esperamos trabalhar no diretório\n",
      "/home/vitorhpk/www/python/cdados-p1\n"
     ]
    }
   ],
   "source": [
    "print('Esperamos trabalhar no diretório')\n",
    "print(os.getcwd())"
   ]
  },
  {
   "cell_type": "markdown",
   "metadata": {},
   "source": [
    "Carregando a base de dados com os tweets classificados manualmente:"
   ]
  },
  {
   "cell_type": "code",
   "execution_count": 394,
   "metadata": {},
   "outputs": [
    {
     "data": {
      "text/plain": [
       "['de',\n",
       " 'a',\n",
       " 'o',\n",
       " 'que',\n",
       " 'e',\n",
       " 'do',\n",
       " 'da',\n",
       " 'em',\n",
       " 'um',\n",
       " 'para',\n",
       " 'é',\n",
       " 'com',\n",
       " 'não',\n",
       " 'uma',\n",
       " 'os',\n",
       " 'no',\n",
       " 'se',\n",
       " 'na',\n",
       " 'por',\n",
       " 'mais',\n",
       " 'as',\n",
       " 'dos',\n",
       " 'como',\n",
       " 'mas',\n",
       " 'foi',\n",
       " 'ao',\n",
       " 'ele',\n",
       " 'das',\n",
       " 'tem',\n",
       " 'à',\n",
       " 'seu',\n",
       " 'sua',\n",
       " 'ou',\n",
       " 'ser',\n",
       " 'quando',\n",
       " 'muito',\n",
       " 'há',\n",
       " 'nos',\n",
       " 'já',\n",
       " 'está',\n",
       " 'eu',\n",
       " 'também',\n",
       " 'só',\n",
       " 'pelo',\n",
       " 'pela',\n",
       " 'até',\n",
       " 'isso',\n",
       " 'ela',\n",
       " 'entre',\n",
       " 'era',\n",
       " 'depois',\n",
       " 'sem',\n",
       " 'mesmo',\n",
       " 'aos',\n",
       " 'ter',\n",
       " 'seus',\n",
       " 'quem',\n",
       " 'nas',\n",
       " 'me',\n",
       " 'esse',\n",
       " 'eles',\n",
       " 'estão',\n",
       " 'você',\n",
       " 'tinha',\n",
       " 'foram',\n",
       " 'essa',\n",
       " 'num',\n",
       " 'nem',\n",
       " 'suas',\n",
       " 'meu',\n",
       " 'às',\n",
       " 'minha',\n",
       " 'têm',\n",
       " 'numa',\n",
       " 'pelos',\n",
       " 'elas',\n",
       " 'havia',\n",
       " 'seja',\n",
       " 'qual',\n",
       " 'será',\n",
       " 'nós',\n",
       " 'tenho',\n",
       " 'lhe',\n",
       " 'deles',\n",
       " 'essas',\n",
       " 'esses',\n",
       " 'pelas',\n",
       " 'este',\n",
       " 'fosse',\n",
       " 'dele',\n",
       " 'tu',\n",
       " 'te',\n",
       " 'vocês',\n",
       " 'vos',\n",
       " 'lhes',\n",
       " 'meus',\n",
       " 'minhas',\n",
       " 'teu',\n",
       " 'tua',\n",
       " 'teus',\n",
       " 'tuas',\n",
       " 'nosso',\n",
       " 'nossa',\n",
       " 'nossos',\n",
       " 'nossas',\n",
       " 'dela',\n",
       " 'delas',\n",
       " 'esta',\n",
       " 'estes',\n",
       " 'estas',\n",
       " 'aquele',\n",
       " 'aquela',\n",
       " 'aqueles',\n",
       " 'aquelas',\n",
       " 'isto',\n",
       " 'aquilo']"
      ]
     },
     "execution_count": 394,
     "metadata": {},
     "output_type": "execute_result"
    }
   ],
   "source": [
    "stop_words = pd.read_csv('stopwords.csv', header=None)[0].to_list()\n",
    "stop_words"
   ]
  },
  {
   "cell_type": "code",
   "execution_count": 395,
   "metadata": {},
   "outputs": [
    {
     "data": {
      "text/html": [
       "<div>\n",
       "<style scoped>\n",
       "    .dataframe tbody tr th:only-of-type {\n",
       "        vertical-align: middle;\n",
       "    }\n",
       "\n",
       "    .dataframe tbody tr th {\n",
       "        vertical-align: top;\n",
       "    }\n",
       "\n",
       "    .dataframe thead th {\n",
       "        text-align: right;\n",
       "    }\n",
       "</style>\n",
       "<table border=\"1\" class=\"dataframe\">\n",
       "  <thead>\n",
       "    <tr style=\"text-align: right;\">\n",
       "      <th></th>\n",
       "      <th>Mensagem</th>\n",
       "      <th>Target</th>\n",
       "      <th>Unnamed: 2</th>\n",
       "      <th>Unnamed: 3</th>\n",
       "      <th>Unnamed: 4</th>\n",
       "    </tr>\n",
       "  </thead>\n",
       "  <tbody>\n",
       "    <tr>\n",
       "      <th>0</th>\n",
       "      <td>Bem, eu nem sei por onde começar. A história é...</td>\n",
       "      <td>2</td>\n",
       "      <td>NaN</td>\n",
       "      <td>NaN</td>\n",
       "      <td>NaN</td>\n",
       "    </tr>\n",
       "    <tr>\n",
       "      <th>1</th>\n",
       "      <td>Não gostei!, acabou com a expectativa que os o...</td>\n",
       "      <td>2</td>\n",
       "      <td>NaN</td>\n",
       "      <td>LEGENDA</td>\n",
       "      <td>NaN</td>\n",
       "    </tr>\n",
       "    <tr>\n",
       "      <th>2</th>\n",
       "      <td>Venho por meio deste, expressar meu desapontam...</td>\n",
       "      <td>1</td>\n",
       "      <td>NaN</td>\n",
       "      <td>1</td>\n",
       "      <td>Problemas com a Amazon</td>\n",
       "    </tr>\n",
       "    <tr>\n",
       "      <th>3</th>\n",
       "      <td>O começo do livro é bastante interessante, qun...</td>\n",
       "      <td>2</td>\n",
       "      <td>NaN</td>\n",
       "      <td>2</td>\n",
       "      <td>Comentarios sobre o livro</td>\n",
       "    </tr>\n",
       "    <tr>\n",
       "      <th>4</th>\n",
       "      <td>Veder essa porcaria como se fosse História é u...</td>\n",
       "      <td>2</td>\n",
       "      <td>NaN</td>\n",
       "      <td>3</td>\n",
       "      <td>Outros</td>\n",
       "    </tr>\n",
       "  </tbody>\n",
       "</table>\n",
       "</div>"
      ],
      "text/plain": [
       "                                            Mensagem  Target  Unnamed: 2  \\\n",
       "0  Bem, eu nem sei por onde começar. A história é...       2         NaN   \n",
       "1  Não gostei!, acabou com a expectativa que os o...       2         NaN   \n",
       "2  Venho por meio deste, expressar meu desapontam...       1         NaN   \n",
       "3  O começo do livro é bastante interessante, qun...       2         NaN   \n",
       "4  Veder essa porcaria como se fosse História é u...       2         NaN   \n",
       "\n",
       "  Unnamed: 3                 Unnamed: 4  \n",
       "0        NaN                        NaN  \n",
       "1    LEGENDA                        NaN  \n",
       "2          1     Problemas com a Amazon  \n",
       "3          2  Comentarios sobre o livro  \n",
       "4          3                     Outros  "
      ]
     },
     "execution_count": 395,
     "metadata": {},
     "output_type": "execute_result"
    }
   ],
   "source": [
    "train = pd.read_excel('dados_treino.xlsx')\n",
    "train.head(5)"
   ]
  },
  {
   "cell_type": "code",
   "execution_count": 396,
   "metadata": {},
   "outputs": [
    {
     "data": {
      "text/html": [
       "<div>\n",
       "<style scoped>\n",
       "    .dataframe tbody tr th:only-of-type {\n",
       "        vertical-align: middle;\n",
       "    }\n",
       "\n",
       "    .dataframe tbody tr th {\n",
       "        vertical-align: top;\n",
       "    }\n",
       "\n",
       "    .dataframe thead th {\n",
       "        text-align: right;\n",
       "    }\n",
       "</style>\n",
       "<table border=\"1\" class=\"dataframe\">\n",
       "  <thead>\n",
       "    <tr style=\"text-align: right;\">\n",
       "      <th></th>\n",
       "      <th>Mensagem</th>\n",
       "      <th>Target</th>\n",
       "      <th>Unnamed: 2</th>\n",
       "      <th>Unnamed: 3</th>\n",
       "      <th>Unnamed: 4</th>\n",
       "    </tr>\n",
       "  </thead>\n",
       "  <tbody>\n",
       "    <tr>\n",
       "      <th>0</th>\n",
       "      <td>O livro fala de um contexto bastante interessa...</td>\n",
       "      <td>2</td>\n",
       "      <td>NaN</td>\n",
       "      <td>NaN</td>\n",
       "      <td>NaN</td>\n",
       "    </tr>\n",
       "    <tr>\n",
       "      <th>1</th>\n",
       "      <td>Estava muito empolgada com 90% do livro. As co...</td>\n",
       "      <td>2</td>\n",
       "      <td>NaN</td>\n",
       "      <td>LEGENDA</td>\n",
       "      <td>NaN</td>\n",
       "    </tr>\n",
       "    <tr>\n",
       "      <th>2</th>\n",
       "      <td>História maluca e que não te leva a nada, uma ...</td>\n",
       "      <td>2</td>\n",
       "      <td>NaN</td>\n",
       "      <td>1</td>\n",
       "      <td>Problemas com a Amazon</td>\n",
       "    </tr>\n",
       "    <tr>\n",
       "      <th>3</th>\n",
       "      <td>O autor tenta mostrar outro lado do livro, bus...</td>\n",
       "      <td>2</td>\n",
       "      <td>NaN</td>\n",
       "      <td>2</td>\n",
       "      <td>Comentarios sobre o livro</td>\n",
       "    </tr>\n",
       "    <tr>\n",
       "      <th>4</th>\n",
       "      <td>Maçante, fantasioso. Uma ficção vista pelo ret...</td>\n",
       "      <td>2</td>\n",
       "      <td>NaN</td>\n",
       "      <td>3</td>\n",
       "      <td>Outros</td>\n",
       "    </tr>\n",
       "  </tbody>\n",
       "</table>\n",
       "</div>"
      ],
      "text/plain": [
       "                                            Mensagem  Target  Unnamed: 2  \\\n",
       "0  O livro fala de um contexto bastante interessa...       2         NaN   \n",
       "1  Estava muito empolgada com 90% do livro. As co...       2         NaN   \n",
       "2  História maluca e que não te leva a nada, uma ...       2         NaN   \n",
       "3  O autor tenta mostrar outro lado do livro, bus...       2         NaN   \n",
       "4  Maçante, fantasioso. Uma ficção vista pelo ret...       2         NaN   \n",
       "\n",
       "  Unnamed: 3                 Unnamed: 4  \n",
       "0        NaN                        NaN  \n",
       "1    LEGENDA                        NaN  \n",
       "2          1     Problemas com a Amazon  \n",
       "3          2  Comentarios sobre o livro  \n",
       "4          3                     Outros  "
      ]
     },
     "execution_count": 396,
     "metadata": {},
     "output_type": "execute_result"
    }
   ],
   "source": [
    "test = pd.read_excel('dados_teste.xlsx')\n",
    "test.head(5)"
   ]
  },
  {
   "cell_type": "markdown",
   "metadata": {},
   "source": [
    "___\n",
    "## Classificador automático\n"
   ]
  },
  {
   "cell_type": "markdown",
   "metadata": {},
   "source": [
    "Faça aqui uma descrição do seu assunto e o que considerou como relevante ou não relevante na classificação dos tweets (Target).\n",
    "\n",
    "ESCREVA AQUI..."
   ]
  },
  {
   "cell_type": "markdown",
   "metadata": {},
   "source": [
    "___\n",
    "### Montando um Classificador Naive-Bayes\n",
    "\n",
    "Considerando apenas as mensagens da planilha Treinamento, ensine  seu classificador."
   ]
  },
  {
   "cell_type": "code",
   "execution_count": 397,
   "metadata": {},
   "outputs": [],
   "source": [
    "legenda = {'Problemas com a Amazon': 1, 'Comentários sobre o livro': 2, 'outros': 3}"
   ]
  },
  {
   "cell_type": "code",
   "execution_count": 398,
   "metadata": {},
   "outputs": [
    {
     "data": {
      "text/html": [
       "<div>\n",
       "<style scoped>\n",
       "    .dataframe tbody tr th:only-of-type {\n",
       "        vertical-align: middle;\n",
       "    }\n",
       "\n",
       "    .dataframe tbody tr th {\n",
       "        vertical-align: top;\n",
       "    }\n",
       "\n",
       "    .dataframe thead th {\n",
       "        text-align: right;\n",
       "    }\n",
       "</style>\n",
       "<table border=\"1\" class=\"dataframe\">\n",
       "  <thead>\n",
       "    <tr style=\"text-align: right;\">\n",
       "      <th></th>\n",
       "      <th>Mensagem</th>\n",
       "      <th>Target</th>\n",
       "    </tr>\n",
       "  </thead>\n",
       "  <tbody>\n",
       "    <tr>\n",
       "      <th>0</th>\n",
       "      <td>Bem, eu nem sei por onde começar. A história é...</td>\n",
       "      <td>2</td>\n",
       "    </tr>\n",
       "    <tr>\n",
       "      <th>1</th>\n",
       "      <td>Não gostei!, acabou com a expectativa que os o...</td>\n",
       "      <td>2</td>\n",
       "    </tr>\n",
       "    <tr>\n",
       "      <th>2</th>\n",
       "      <td>Venho por meio deste, expressar meu desapontam...</td>\n",
       "      <td>1</td>\n",
       "    </tr>\n",
       "    <tr>\n",
       "      <th>3</th>\n",
       "      <td>O começo do livro é bastante interessante, qun...</td>\n",
       "      <td>2</td>\n",
       "    </tr>\n",
       "    <tr>\n",
       "      <th>4</th>\n",
       "      <td>Veder essa porcaria como se fosse História é u...</td>\n",
       "      <td>2</td>\n",
       "    </tr>\n",
       "    <tr>\n",
       "      <th>...</th>\n",
       "      <td>...</td>\n",
       "      <td>...</td>\n",
       "    </tr>\n",
       "    <tr>\n",
       "      <th>295</th>\n",
       "      <td>Achei que o livro deu mais ênfase ao sexo do q...</td>\n",
       "      <td>2</td>\n",
       "    </tr>\n",
       "    <tr>\n",
       "      <th>296</th>\n",
       "      <td>Não recomendo. Honestamente não recomendo. O c...</td>\n",
       "      <td>2</td>\n",
       "    </tr>\n",
       "    <tr>\n",
       "      <th>297</th>\n",
       "      <td>depois de fazer o pedido que vi que era pocket...</td>\n",
       "      <td>1</td>\n",
       "    </tr>\n",
       "    <tr>\n",
       "      <th>298</th>\n",
       "      <td>A personagem principal parece sofrer de uma es...</td>\n",
       "      <td>2</td>\n",
       "    </tr>\n",
       "    <tr>\n",
       "      <th>299</th>\n",
       "      <td>É um daqueles livros de leitura rápida. Achei ...</td>\n",
       "      <td>2</td>\n",
       "    </tr>\n",
       "  </tbody>\n",
       "</table>\n",
       "<p>300 rows × 2 columns</p>\n",
       "</div>"
      ],
      "text/plain": [
       "                                              Mensagem  Target\n",
       "0    Bem, eu nem sei por onde começar. A história é...       2\n",
       "1    Não gostei!, acabou com a expectativa que os o...       2\n",
       "2    Venho por meio deste, expressar meu desapontam...       1\n",
       "3    O começo do livro é bastante interessante, qun...       2\n",
       "4    Veder essa porcaria como se fosse História é u...       2\n",
       "..                                                 ...     ...\n",
       "295  Achei que o livro deu mais ênfase ao sexo do q...       2\n",
       "296  Não recomendo. Honestamente não recomendo. O c...       2\n",
       "297  depois de fazer o pedido que vi que era pocket...       1\n",
       "298  A personagem principal parece sofrer de uma es...       2\n",
       "299  É um daqueles livros de leitura rápida. Achei ...       2\n",
       "\n",
       "[300 rows x 2 columns]"
      ]
     },
     "execution_count": 398,
     "metadata": {},
     "output_type": "execute_result"
    }
   ],
   "source": [
    "train = train.loc[:,['Mensagem', 'Target']]\n",
    "test = test.loc[:,['Mensagem', 'Target']]\n",
    "train"
   ]
  },
  {
   "cell_type": "code",
   "execution_count": 399,
   "metadata": {},
   "outputs": [],
   "source": [
    "import re \n",
    "\n",
    "def cleanup(text):\n",
    "    \"\"\"\n",
    "        Função de limpeza muito simples que troca alguns sinais básicos por espaços\n",
    "    \"\"\"\n",
    "    texto_sem_stop_words = ''\n",
    "    for palavra in text.split():\n",
    "        if palavra not in stop_words:\n",
    "            texto_sem_stop_words += palavra + ' '\n",
    "             \n",
    "    punctuation = r'[\\`\\\"\\!\\-\\.\\:\\?\\;\\$\\'\\,]' # Note que os sinais [] são delimitadores de um conjunto.\n",
    "    pattern = re.compile(punctuation)\n",
    "    emoji_pattern = re.compile(\"[\"\n",
    "                        u\"\\U0001F600-\\U0001F64F\"  # emoticons\n",
    "                        u\"\\U0001F300-\\U0001F5FF\"  # symbols & pictographs\n",
    "                        u\"\\U0001F680-\\U0001F6FF\"  # transport & map symbols\n",
    "                        u\"\\U0001F1E0-\\U0001F1FF\"  # flags (iOS)\n",
    "                        u\"\\U00002702-\\U000027B0\"\n",
    "                        u\"\\U000024C2-\\U0001F251\"\n",
    "                        \"]+\", flags=re.UNICODE)\n",
    "    text_subbed = re.sub(emoji_pattern, '', texto_sem_stop_words)\n",
    "    text_subbed = re.sub(pattern, '', text_subbed)\n",
    "    return text_subbed.lower()"
   ]
  },
  {
   "cell_type": "code",
   "execution_count": 400,
   "metadata": {},
   "outputs": [],
   "source": [
    "train['Mensagem'] = train['Mensagem'].apply(cleanup)\n",
    "test['Mensagem'] = test['Mensagem'].apply(cleanup)"
   ]
  },
  {
   "cell_type": "code",
   "execution_count": 401,
   "metadata": {},
   "outputs": [
    {
     "data": {
      "text/html": [
       "<div>\n",
       "<style scoped>\n",
       "    .dataframe tbody tr th:only-of-type {\n",
       "        vertical-align: middle;\n",
       "    }\n",
       "\n",
       "    .dataframe tbody tr th {\n",
       "        vertical-align: top;\n",
       "    }\n",
       "\n",
       "    .dataframe thead th {\n",
       "        text-align: right;\n",
       "    }\n",
       "</style>\n",
       "<table border=\"1\" class=\"dataframe\">\n",
       "  <thead>\n",
       "    <tr style=\"text-align: right;\">\n",
       "      <th></th>\n",
       "      <th>Mensagem</th>\n",
       "      <th>Target</th>\n",
       "    </tr>\n",
       "  </thead>\n",
       "  <tbody>\n",
       "    <tr>\n",
       "      <th>0</th>\n",
       "      <td>bem eu nem sei por onde começar a história é a...</td>\n",
       "      <td>2</td>\n",
       "    </tr>\n",
       "    <tr>\n",
       "      <th>1</th>\n",
       "      <td>não gostei acabou com a expectativa que os out...</td>\n",
       "      <td>2</td>\n",
       "    </tr>\n",
       "    <tr>\n",
       "      <th>2</th>\n",
       "      <td>venho por meio deste expressar meu desapontame...</td>\n",
       "      <td>1</td>\n",
       "    </tr>\n",
       "    <tr>\n",
       "      <th>3</th>\n",
       "      <td>o começo do livro é bastante interessante qund...</td>\n",
       "      <td>2</td>\n",
       "    </tr>\n",
       "    <tr>\n",
       "      <th>4</th>\n",
       "      <td>veder essa porcaria como se fosse história é u...</td>\n",
       "      <td>2</td>\n",
       "    </tr>\n",
       "    <tr>\n",
       "      <th>...</th>\n",
       "      <td>...</td>\n",
       "      <td>...</td>\n",
       "    </tr>\n",
       "    <tr>\n",
       "      <th>295</th>\n",
       "      <td>achei que o livro deu mais ênfase ao sexo do q...</td>\n",
       "      <td>2</td>\n",
       "    </tr>\n",
       "    <tr>\n",
       "      <th>296</th>\n",
       "      <td>não recomendo honestamente não recomendo o con...</td>\n",
       "      <td>2</td>\n",
       "    </tr>\n",
       "    <tr>\n",
       "      <th>297</th>\n",
       "      <td>depois de fazer o pedido que vi que era pocket...</td>\n",
       "      <td>1</td>\n",
       "    </tr>\n",
       "    <tr>\n",
       "      <th>298</th>\n",
       "      <td>a personagem principal parece sofrer de uma es...</td>\n",
       "      <td>2</td>\n",
       "    </tr>\n",
       "    <tr>\n",
       "      <th>299</th>\n",
       "      <td>é um daqueles livros de leitura rápida achei b...</td>\n",
       "      <td>2</td>\n",
       "    </tr>\n",
       "  </tbody>\n",
       "</table>\n",
       "<p>300 rows × 2 columns</p>\n",
       "</div>"
      ],
      "text/plain": [
       "                                              Mensagem  Target\n",
       "0    bem eu nem sei por onde começar a história é a...       2\n",
       "1    não gostei acabou com a expectativa que os out...       2\n",
       "2    venho por meio deste expressar meu desapontame...       1\n",
       "3    o começo do livro é bastante interessante qund...       2\n",
       "4    veder essa porcaria como se fosse história é u...       2\n",
       "..                                                 ...     ...\n",
       "295  achei que o livro deu mais ênfase ao sexo do q...       2\n",
       "296  não recomendo honestamente não recomendo o con...       2\n",
       "297  depois de fazer o pedido que vi que era pocket...       1\n",
       "298  a personagem principal parece sofrer de uma es...       2\n",
       "299  é um daqueles livros de leitura rápida achei b...       2\n",
       "\n",
       "[300 rows x 2 columns]"
      ]
     },
     "execution_count": 401,
     "metadata": {},
     "output_type": "execute_result"
    }
   ],
   "source": [
    "train"
   ]
  },
  {
   "cell_type": "code",
   "execution_count": 402,
   "metadata": {},
   "outputs": [
    {
     "data": {
      "text/html": [
       "<div>\n",
       "<style scoped>\n",
       "    .dataframe tbody tr th:only-of-type {\n",
       "        vertical-align: middle;\n",
       "    }\n",
       "\n",
       "    .dataframe tbody tr th {\n",
       "        vertical-align: top;\n",
       "    }\n",
       "\n",
       "    .dataframe thead th {\n",
       "        text-align: right;\n",
       "    }\n",
       "</style>\n",
       "<table border=\"1\" class=\"dataframe\">\n",
       "  <thead>\n",
       "    <tr style=\"text-align: right;\">\n",
       "      <th></th>\n",
       "      <th>Mensagem</th>\n",
       "      <th>Target</th>\n",
       "    </tr>\n",
       "  </thead>\n",
       "  <tbody>\n",
       "    <tr>\n",
       "      <th>0</th>\n",
       "      <td>o livro fala de um contexto bastante interessa...</td>\n",
       "      <td>2</td>\n",
       "    </tr>\n",
       "    <tr>\n",
       "      <th>1</th>\n",
       "      <td>estava muito empolgada com 90% do livro as coi...</td>\n",
       "      <td>2</td>\n",
       "    </tr>\n",
       "    <tr>\n",
       "      <th>2</th>\n",
       "      <td>história maluca e que não te leva a nada uma v...</td>\n",
       "      <td>2</td>\n",
       "    </tr>\n",
       "    <tr>\n",
       "      <th>3</th>\n",
       "      <td>o autor tenta mostrar outro lado do livro busc...</td>\n",
       "      <td>2</td>\n",
       "    </tr>\n",
       "    <tr>\n",
       "      <th>4</th>\n",
       "      <td>maçante fantasioso uma ficção vista pelo retro...</td>\n",
       "      <td>2</td>\n",
       "    </tr>\n",
       "    <tr>\n",
       "      <th>...</th>\n",
       "      <td>...</td>\n",
       "      <td>...</td>\n",
       "    </tr>\n",
       "    <tr>\n",
       "      <th>195</th>\n",
       "      <td>no início achei  interessante a garota virgem ...</td>\n",
       "      <td>2</td>\n",
       "    </tr>\n",
       "    <tr>\n",
       "      <th>196</th>\n",
       "      <td>cheio de teorias da conspiração</td>\n",
       "      <td>2</td>\n",
       "    </tr>\n",
       "    <tr>\n",
       "      <th>197</th>\n",
       "      <td>por ser versão pocket se espera uma qualidade ...</td>\n",
       "      <td>3</td>\n",
       "    </tr>\n",
       "    <tr>\n",
       "      <th>198</th>\n",
       "      <td>o livro é uma ficcção destópica que visa criti...</td>\n",
       "      <td>2</td>\n",
       "    </tr>\n",
       "    <tr>\n",
       "      <th>199</th>\n",
       "      <td>o livro começa bem mas aos poucos começa a fic...</td>\n",
       "      <td>2</td>\n",
       "    </tr>\n",
       "  </tbody>\n",
       "</table>\n",
       "<p>200 rows × 2 columns</p>\n",
       "</div>"
      ],
      "text/plain": [
       "                                              Mensagem  Target\n",
       "0    o livro fala de um contexto bastante interessa...       2\n",
       "1    estava muito empolgada com 90% do livro as coi...       2\n",
       "2    história maluca e que não te leva a nada uma v...       2\n",
       "3    o autor tenta mostrar outro lado do livro busc...       2\n",
       "4    maçante fantasioso uma ficção vista pelo retro...       2\n",
       "..                                                 ...     ...\n",
       "195  no início achei  interessante a garota virgem ...       2\n",
       "196                    cheio de teorias da conspiração       2\n",
       "197  por ser versão pocket se espera uma qualidade ...       3\n",
       "198  o livro é uma ficcção destópica que visa criti...       2\n",
       "199  o livro começa bem mas aos poucos começa a fic...       2\n",
       "\n",
       "[200 rows x 2 columns]"
      ]
     },
     "execution_count": 402,
     "metadata": {},
     "output_type": "execute_result"
    }
   ],
   "source": [
    "test"
   ]
  },
  {
   "cell_type": "code",
   "execution_count": 403,
   "metadata": {},
   "outputs": [
    {
     "data": {
      "text/plain": [
       "0      Comentários sobre o livro\n",
       "1      Comentários sobre o livro\n",
       "2         Problemas com a Amazon\n",
       "3      Comentários sobre o livro\n",
       "4      Comentários sobre o livro\n",
       "                 ...            \n",
       "295    Comentários sobre o livro\n",
       "296    Comentários sobre o livro\n",
       "297       Problemas com a Amazon\n",
       "298    Comentários sobre o livro\n",
       "299    Comentários sobre o livro\n",
       "Name: Target, Length: 300, dtype: category\n",
       "Categories (3, object): ['Problemas com a Amazon', 'Comentários sobre o livro', 'Outros']"
      ]
     },
     "execution_count": 403,
     "metadata": {},
     "output_type": "execute_result"
    }
   ],
   "source": [
    "train['Mensagem'] = train['Mensagem'].astype('category')\n",
    "train['Target'] = train['Target'].astype('category')\n",
    "\n",
    "train['Target'] = train['Target'].cat.rename_categories(['Problemas com a Amazon', 'Comentários sobre o livro', 'Outros'])\n",
    "train.Target"
   ]
  },
  {
   "cell_type": "code",
   "execution_count": 404,
   "metadata": {},
   "outputs": [
    {
     "data": {
      "text/html": [
       "<div>\n",
       "<style scoped>\n",
       "    .dataframe tbody tr th:only-of-type {\n",
       "        vertical-align: middle;\n",
       "    }\n",
       "\n",
       "    .dataframe tbody tr th {\n",
       "        vertical-align: top;\n",
       "    }\n",
       "\n",
       "    .dataframe thead th {\n",
       "        text-align: right;\n",
       "    }\n",
       "</style>\n",
       "<table border=\"1\" class=\"dataframe\">\n",
       "  <thead>\n",
       "    <tr style=\"text-align: right;\">\n",
       "      <th></th>\n",
       "      <th>Mensagem</th>\n",
       "      <th>Target</th>\n",
       "    </tr>\n",
       "  </thead>\n",
       "  <tbody>\n",
       "    <tr>\n",
       "      <th>0</th>\n",
       "      <td>bem eu nem sei por onde começar a história é a...</td>\n",
       "      <td>Comentários sobre o livro</td>\n",
       "    </tr>\n",
       "    <tr>\n",
       "      <th>1</th>\n",
       "      <td>não gostei acabou com a expectativa que os out...</td>\n",
       "      <td>Comentários sobre o livro</td>\n",
       "    </tr>\n",
       "    <tr>\n",
       "      <th>2</th>\n",
       "      <td>venho por meio deste expressar meu desapontame...</td>\n",
       "      <td>Problemas com a Amazon</td>\n",
       "    </tr>\n",
       "    <tr>\n",
       "      <th>3</th>\n",
       "      <td>o começo do livro é bastante interessante qund...</td>\n",
       "      <td>Comentários sobre o livro</td>\n",
       "    </tr>\n",
       "    <tr>\n",
       "      <th>4</th>\n",
       "      <td>veder essa porcaria como se fosse história é u...</td>\n",
       "      <td>Comentários sobre o livro</td>\n",
       "    </tr>\n",
       "    <tr>\n",
       "      <th>5</th>\n",
       "      <td>mais uma coletânea de artigos de jornal escrit...</td>\n",
       "      <td>Comentários sobre o livro</td>\n",
       "    </tr>\n",
       "    <tr>\n",
       "      <th>6</th>\n",
       "      <td>poxa comprei o livro em janeiro agora eles nao...</td>\n",
       "      <td>Problemas com a Amazon</td>\n",
       "    </tr>\n",
       "    <tr>\n",
       "      <th>7</th>\n",
       "      <td>a formatação desse ebook atrapalha muito a lei...</td>\n",
       "      <td>Problemas com a Amazon</td>\n",
       "    </tr>\n",
       "    <tr>\n",
       "      <th>8</th>\n",
       "      <td>venderam um produto que não tinham para entreg...</td>\n",
       "      <td>Problemas com a Amazon</td>\n",
       "    </tr>\n",
       "    <tr>\n",
       "      <th>9</th>\n",
       "      <td>livro pessimo dinheiro jogado fora só mesmo os...</td>\n",
       "      <td>Comentários sobre o livro</td>\n",
       "    </tr>\n",
       "  </tbody>\n",
       "</table>\n",
       "</div>"
      ],
      "text/plain": [
       "                                            Mensagem  \\\n",
       "0  bem eu nem sei por onde começar a história é a...   \n",
       "1  não gostei acabou com a expectativa que os out...   \n",
       "2  venho por meio deste expressar meu desapontame...   \n",
       "3  o começo do livro é bastante interessante qund...   \n",
       "4  veder essa porcaria como se fosse história é u...   \n",
       "5  mais uma coletânea de artigos de jornal escrit...   \n",
       "6  poxa comprei o livro em janeiro agora eles nao...   \n",
       "7  a formatação desse ebook atrapalha muito a lei...   \n",
       "8  venderam um produto que não tinham para entreg...   \n",
       "9  livro pessimo dinheiro jogado fora só mesmo os...   \n",
       "\n",
       "                      Target  \n",
       "0  Comentários sobre o livro  \n",
       "1  Comentários sobre o livro  \n",
       "2     Problemas com a Amazon  \n",
       "3  Comentários sobre o livro  \n",
       "4  Comentários sobre o livro  \n",
       "5  Comentários sobre o livro  \n",
       "6     Problemas com a Amazon  \n",
       "7     Problemas com a Amazon  \n",
       "8     Problemas com a Amazon  \n",
       "9  Comentários sobre o livro  "
      ]
     },
     "execution_count": 404,
     "metadata": {},
     "output_type": "execute_result"
    }
   ],
   "source": [
    "train.head(10)"
   ]
  },
  {
   "cell_type": "code",
   "execution_count": 405,
   "metadata": {},
   "outputs": [
    {
     "data": {
      "text/plain": [
       "0      Comentários sobre o livro\n",
       "1      Comentários sobre o livro\n",
       "2      Comentários sobre o livro\n",
       "3      Comentários sobre o livro\n",
       "4      Comentários sobre o livro\n",
       "                 ...            \n",
       "195    Comentários sobre o livro\n",
       "196    Comentários sobre o livro\n",
       "197                       Outros\n",
       "198    Comentários sobre o livro\n",
       "199    Comentários sobre o livro\n",
       "Name: Target, Length: 200, dtype: category\n",
       "Categories (3, object): ['Problemas com a Amazon', 'Comentários sobre o livro', 'Outros']"
      ]
     },
     "execution_count": 405,
     "metadata": {},
     "output_type": "execute_result"
    }
   ],
   "source": [
    "test['Mensagem'] = test['Mensagem'].astype('category')\n",
    "test['Target'] = test['Target'].astype('category')\n",
    "\n",
    "test['Target'] = test['Target'].cat.rename_categories(['Problemas com a Amazon', 'Comentários sobre o livro', 'Outros'])\n",
    "test.Target"
   ]
  },
  {
   "cell_type": "markdown",
   "metadata": {},
   "source": [
    "### Tabela de frequências das palavras"
   ]
  },
  {
   "cell_type": "code",
   "execution_count": 406,
   "metadata": {},
   "outputs": [
    {
     "data": {
      "text/plain": [
       "Target\n",
       "Comentários sobre o livro    0.686667\n",
       "Problemas com a Amazon       0.213333\n",
       "Outros                       0.100000\n",
       "Name: proportion, dtype: float64"
      ]
     },
     "execution_count": 406,
     "metadata": {},
     "output_type": "execute_result"
    }
   ],
   "source": [
    "tabela_relativa = train.Target.value_counts(True)\n",
    "\n",
    "P_amazon = tabela_relativa['Problemas com a Amazon']\n",
    "P_livro = tabela_relativa['Comentários sobre o livro']\n",
    "P_outros = tabela_relativa['Outros']\n",
    "tabela_relativa"
   ]
  },
  {
   "cell_type": "code",
   "execution_count": 407,
   "metadata": {},
   "outputs": [],
   "source": [
    "# Criando uma lista com todas as palavras diferentes\n",
    "palavras = ''\n",
    "\n",
    "for i in range(len(train['Mensagem'])):\n",
    "    palavras += train['Mensagem'][i] + ' '\n",
    "\n",
    "palavras = palavras.split()\n",
    "palavras = pd.Series(list(set(palavras)))\n",
    "n_palavras_diff = len(palavras)"
   ]
  },
  {
   "cell_type": "code",
   "execution_count": 408,
   "metadata": {},
   "outputs": [],
   "source": [
    "# Criando uma lista com todas as palavras na categoria Amazon\n",
    "\n",
    "palavras_amazon = ''\n",
    "\n",
    "amazon = train.loc[train['Target'] == 'Problemas com a Amazon', ['Mensagem']]\n",
    "amazon = amazon.reset_index(drop=True)\n",
    "\n",
    "for i in range(len(amazon['Mensagem'])):\n",
    "    palavras_amazon += amazon['Mensagem'][i] + ' '\n",
    "\n",
    "palavras_amazon_lista = palavras_amazon.split()\n",
    "palavras_amazon = pd.Series(palavras_amazon_lista)\n",
    "P_palavra_dado_amazon = palavras_amazon.value_counts()\n",
    "n_palavras_amazon = len(palavras_amazon)"
   ]
  },
  {
   "cell_type": "code",
   "execution_count": 409,
   "metadata": {},
   "outputs": [],
   "source": [
    "# Criando uma lista com todas as palavras na categoria Livros\n",
    "\n",
    "palavras_livro = ''\n",
    "\n",
    "livro = train.loc[train['Target'] == 'Comentários sobre o livro', ['Mensagem']]\n",
    "livro = livro.reset_index(drop=True)\n",
    "\n",
    "for i in range(len(livro['Mensagem'])):\n",
    "    palavras_livro += livro['Mensagem'][i] + ' '\n",
    "\n",
    "palavras_livro_lista = palavras_livro.split()\n",
    "palavras_livro = pd.Series(palavras_livro_lista)\n",
    "P_palavra_dado_livro = palavras_livro.value_counts()\n",
    "n_palavras_livro = len(palavras_livro)"
   ]
  },
  {
   "cell_type": "code",
   "execution_count": 410,
   "metadata": {},
   "outputs": [],
   "source": [
    "# Criando uma lista com todas as palavras diferentes na categoria Outros\n",
    "\n",
    "palavras_outros = ''\n",
    "\n",
    "outros = train.loc[train['Target'] == 'Outros', ['Mensagem']]\n",
    "outros = outros.reset_index(drop=True)\n",
    "\n",
    "for i in range(len(outros['Mensagem'])):\n",
    "    palavras_outros += outros['Mensagem'][i] + ' '\n",
    "\n",
    "palavras_outros_lista = palavras_outros.split()\n",
    "palavras_outros = pd.Series(palavras_outros_lista)\n",
    "P_palavra_dado_outros = palavras_outros.value_counts()\n",
    "n_palavras_outros = len(palavras_outros)"
   ]
  },
  {
   "cell_type": "code",
   "execution_count": 411,
   "metadata": {},
   "outputs": [],
   "source": [
    "for i, frase in test['Mensagem'].items():\n",
    "    frase = frase.split()\n",
    "    prob_amazon = 1\n",
    "    prob_livro = 1\n",
    "    prob_outros = 1\n",
    "    for palavra in frase:\n",
    "        if palavra not in palavras_amazon_lista:\n",
    "            prob_amazon *= (0 + 1)/(n_palavras_amazon + n_palavras_diff)\n",
    "        else:\n",
    "            prob_amazon *= (P_palavra_dado_amazon[palavra] + 1)/(n_palavras_amazon + n_palavras_diff)\n",
    "        \n",
    "        if palavra not in palavras_livro_lista:\n",
    "            prob_livro *= (0 + 1)/(n_palavras_livro + n_palavras_diff)\n",
    "        else:\n",
    "            prob_livro *= (P_palavra_dado_livro[palavra] + 1)/(n_palavras_livro + n_palavras_diff)\n",
    "        \n",
    "        if palavra not in palavras_outros_lista:\n",
    "            prob_outros *= (0 + 1)/(n_palavras_outros + n_palavras_diff)\n",
    "        else:\n",
    "            prob_outros *= (P_palavra_dado_outros[palavra] + 1)/(n_palavras_outros + n_palavras_diff)\n",
    "    \n",
    "    if prob_amazon > prob_livro and prob_amazon > prob_outros:\n",
    "        test.loc[i, 'Predição'] = 'Problemas com a Amazon'\n",
    "    elif prob_livro > prob_amazon and prob_livro > prob_outros:\n",
    "        test.loc[i, 'Predição'] = 'Comentários sobre o livro'\n",
    "    else:\n",
    "        test.loc[i, 'Predição'] = 'Outros'"
   ]
  },
  {
   "cell_type": "code",
   "execution_count": 412,
   "metadata": {},
   "outputs": [
    {
     "data": {
      "text/html": [
       "<div>\n",
       "<style scoped>\n",
       "    .dataframe tbody tr th:only-of-type {\n",
       "        vertical-align: middle;\n",
       "    }\n",
       "\n",
       "    .dataframe tbody tr th {\n",
       "        vertical-align: top;\n",
       "    }\n",
       "\n",
       "    .dataframe thead th {\n",
       "        text-align: right;\n",
       "    }\n",
       "</style>\n",
       "<table border=\"1\" class=\"dataframe\">\n",
       "  <thead>\n",
       "    <tr style=\"text-align: right;\">\n",
       "      <th>Target</th>\n",
       "      <th>Problemas com a Amazon</th>\n",
       "      <th>Comentários sobre o livro</th>\n",
       "      <th>Outros</th>\n",
       "    </tr>\n",
       "    <tr>\n",
       "      <th>Predição</th>\n",
       "      <th></th>\n",
       "      <th></th>\n",
       "      <th></th>\n",
       "    </tr>\n",
       "  </thead>\n",
       "  <tbody>\n",
       "    <tr>\n",
       "      <th>Comentários sobre o livro</th>\n",
       "      <td>2</td>\n",
       "      <td>113</td>\n",
       "      <td>14</td>\n",
       "    </tr>\n",
       "    <tr>\n",
       "      <th>Outros</th>\n",
       "      <td>4</td>\n",
       "      <td>14</td>\n",
       "      <td>3</td>\n",
       "    </tr>\n",
       "    <tr>\n",
       "      <th>Problemas com a Amazon</th>\n",
       "      <td>33</td>\n",
       "      <td>6</td>\n",
       "      <td>11</td>\n",
       "    </tr>\n",
       "  </tbody>\n",
       "</table>\n",
       "</div>"
      ],
      "text/plain": [
       "Target                     Problemas com a Amazon  Comentários sobre o livro  \\\n",
       "Predição                                                                       \n",
       "Comentários sobre o livro                       2                        113   \n",
       "Outros                                          4                         14   \n",
       "Problemas com a Amazon                         33                          6   \n",
       "\n",
       "Target                     Outros  \n",
       "Predição                           \n",
       "Comentários sobre o livro      14  \n",
       "Outros                          3  \n",
       "Problemas com a Amazon         11  "
      ]
     },
     "execution_count": 412,
     "metadata": {},
     "output_type": "execute_result"
    }
   ],
   "source": [
    "pd.crosstab(test['Predição'], test['Target'])"
   ]
  },
  {
   "cell_type": "markdown",
   "metadata": {},
   "source": [
    "___\n",
    "### Verificando a performance do Classificador\n",
    "\n",
    "Agora você deve testar o seu classificador com a base de Testes."
   ]
  },
  {
   "cell_type": "code",
   "execution_count": null,
   "metadata": {},
   "outputs": [],
   "source": []
  },
  {
   "cell_type": "code",
   "execution_count": null,
   "metadata": {},
   "outputs": [],
   "source": []
  },
  {
   "cell_type": "code",
   "execution_count": null,
   "metadata": {},
   "outputs": [],
   "source": []
  },
  {
   "cell_type": "markdown",
   "metadata": {},
   "source": [
    "___\n",
    "### Concluindo"
   ]
  },
  {
   "cell_type": "code",
   "execution_count": null,
   "metadata": {},
   "outputs": [],
   "source": []
  },
  {
   "cell_type": "code",
   "execution_count": null,
   "metadata": {},
   "outputs": [],
   "source": []
  },
  {
   "cell_type": "code",
   "execution_count": null,
   "metadata": {},
   "outputs": [],
   "source": []
  },
  {
   "cell_type": "markdown",
   "metadata": {},
   "source": [
    "___\n",
    "### Qualidade do Classificador a partir de novas separações dos tweets entre Treinamento e Teste\n",
    "\n",
    "Caso for fazer esse item do Projeto"
   ]
  },
  {
   "cell_type": "code",
   "execution_count": null,
   "metadata": {},
   "outputs": [],
   "source": []
  },
  {
   "cell_type": "code",
   "execution_count": null,
   "metadata": {},
   "outputs": [],
   "source": []
  },
  {
   "cell_type": "code",
   "execution_count": null,
   "metadata": {},
   "outputs": [],
   "source": []
  },
  {
   "cell_type": "markdown",
   "metadata": {},
   "source": [
    "___\n",
    "## Aperfeiçoamento:\n",
    "\n",
    "Trabalhos que conseguirem pelo menos conceito B vão evoluir em conceito dependendo da quantidade de itens avançados:\n",
    "\n",
    "* IMPLEMENTOU outras limpezas e transformações que não afetem a qualidade da informação contida nos tweets. Ex: stemming, lemmatization, stopwords\n",
    "* CONSIDEROU mais de duas categorias na variável Target e INCREMENTOU a quantidade de notícias, mantendo pelo menos 250 notícias por categoria (OBRIGATÓRIO PARA TRIOS, sem contar como item avançado)\n",
    "* Para Target com duas categorias: CRIOU pelo menos quatro categorias intermediárias de relevância baseadas na probabilidade: ex.: muito relevante, relevante, neutro, irrelevante, muito irrelevante\n",
    "* EXPLICOU porquê não pode usar o próprio classificador para gerar mais amostras de treinamento\n",
    "* PROPÔS diferentes cenários para Naïve Bayes fora do contexto do projeto (pelo menos dois cenários, exceto aqueles já apresentados em sala pelos professores: por exemplo, filtro de spam)\n",
    "* SUGERIU e EXPLICOU melhorias reais com indicações concretas de como implementar (indicar como fazer e indicar material de pesquisa)\n",
    "* FEZ o item Qualidade do Classificador a partir de novas separações das Notícias entre Treinamento e Teste descrito no enunciado do projeto (OBRIGATÓRIO para conceitos A ou A+)"
   ]
  },
  {
   "cell_type": "markdown",
   "metadata": {},
   "source": [
    "___\n",
    "## Referências"
   ]
  },
  {
   "cell_type": "markdown",
   "metadata": {},
   "source": [
    "[Naive Bayes and Text Classification](https://arxiv.org/pdf/1410.5329.pdf)  **Mais completo**\n",
    "\n",
    "[A practical explanation of a Naive Bayes Classifier](https://monkeylearn.com/blog/practical-explanation-naive-bayes-classifier/) **Mais simples**"
   ]
  },
  {
   "cell_type": "code",
   "execution_count": null,
   "metadata": {},
   "outputs": [],
   "source": []
  }
 ],
 "metadata": {
  "kernelspec": {
   "display_name": "Python 3",
   "language": "python",
   "name": "python3"
  },
  "language_info": {
   "codemirror_mode": {
    "name": "ipython",
    "version": 3
   },
   "file_extension": ".py",
   "mimetype": "text/x-python",
   "name": "python",
   "nbconvert_exporter": "python",
   "pygments_lexer": "ipython3",
   "version": "3.11.4"
  }
 },
 "nbformat": 4,
 "nbformat_minor": 4
}
