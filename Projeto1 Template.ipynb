{
 "cells": [
  {
   "cell_type": "markdown",
   "metadata": {},
   "source": [
    "# Projeto 1 - Ciência dos Dados"
   ]
  },
  {
   "cell_type": "markdown",
   "metadata": {},
   "source": [
    "Nome: Pedro Henrique\n",
    "\n",
    "Nome: Vitor Katakura"
   ]
  },
  {
   "cell_type": "markdown",
   "metadata": {},
   "source": [
    "Atenção: Serão permitidos grupos de três pessoas, mas com uma rubrica mais exigente. Grupos deste tamanho precisarão fazer um questionário de avaliação de trabalho em equipe"
   ]
  },
  {
   "cell_type": "markdown",
   "metadata": {},
   "source": [
    "___\n",
    "Carregando algumas bibliotecas:"
   ]
  },
  {
   "cell_type": "code",
   "execution_count": 336,
   "metadata": {},
   "outputs": [],
   "source": [
    "%matplotlib inline\n",
    "import pandas as pd\n",
    "import matplotlib.pyplot as plt\n",
    "import numpy as np\n",
    "import os"
   ]
  },
  {
   "cell_type": "code",
   "execution_count": 337,
   "metadata": {
    "scrolled": false
   },
   "outputs": [
    {
     "name": "stdout",
     "output_type": "stream",
     "text": [
      "Esperamos trabalhar no diretório\n",
      "/home/vitorhideki/www/python/cdados-p1\n"
     ]
    }
   ],
   "source": [
    "print('Esperamos trabalhar no diretório')\n",
    "print(os.getcwd())"
   ]
  },
  {
   "cell_type": "markdown",
   "metadata": {},
   "source": [
    "Carregando a base de dados com os tweets classificados manualmente e as stop words:"
   ]
  },
  {
   "cell_type": "code",
   "execution_count": 338,
   "metadata": {},
   "outputs": [],
   "source": [
    "stop_words = pd.read_csv('stopwords.csv', header=None)[0].to_list()"
   ]
  },
  {
   "cell_type": "code",
   "execution_count": 339,
   "metadata": {},
   "outputs": [
    {
     "data": {
      "text/html": [
       "<div>\n",
       "<style scoped>\n",
       "    .dataframe tbody tr th:only-of-type {\n",
       "        vertical-align: middle;\n",
       "    }\n",
       "\n",
       "    .dataframe tbody tr th {\n",
       "        vertical-align: top;\n",
       "    }\n",
       "\n",
       "    .dataframe thead th {\n",
       "        text-align: right;\n",
       "    }\n",
       "</style>\n",
       "<table border=\"1\" class=\"dataframe\">\n",
       "  <thead>\n",
       "    <tr style=\"text-align: right;\">\n",
       "      <th></th>\n",
       "      <th>Mensagem</th>\n",
       "      <th>Target</th>\n",
       "      <th>Unnamed: 2</th>\n",
       "      <th>Unnamed: 3</th>\n",
       "      <th>Unnamed: 4</th>\n",
       "    </tr>\n",
       "  </thead>\n",
       "  <tbody>\n",
       "    <tr>\n",
       "      <th>0</th>\n",
       "      <td>Bem, eu nem sei por onde começar. A história é...</td>\n",
       "      <td>2</td>\n",
       "      <td>NaN</td>\n",
       "      <td>NaN</td>\n",
       "      <td>NaN</td>\n",
       "    </tr>\n",
       "    <tr>\n",
       "      <th>1</th>\n",
       "      <td>Não gostei!, acabou com a expectativa que os o...</td>\n",
       "      <td>2</td>\n",
       "      <td>NaN</td>\n",
       "      <td>LEGENDA</td>\n",
       "      <td>NaN</td>\n",
       "    </tr>\n",
       "    <tr>\n",
       "      <th>2</th>\n",
       "      <td>Venho por meio deste, expressar meu desapontam...</td>\n",
       "      <td>1</td>\n",
       "      <td>NaN</td>\n",
       "      <td>1</td>\n",
       "      <td>Problemas com a Amazon</td>\n",
       "    </tr>\n",
       "    <tr>\n",
       "      <th>3</th>\n",
       "      <td>O começo do livro é bastante interessante, qun...</td>\n",
       "      <td>2</td>\n",
       "      <td>NaN</td>\n",
       "      <td>2</td>\n",
       "      <td>Comentarios sobre o livro</td>\n",
       "    </tr>\n",
       "    <tr>\n",
       "      <th>4</th>\n",
       "      <td>Veder essa porcaria como se fosse História é u...</td>\n",
       "      <td>2</td>\n",
       "      <td>NaN</td>\n",
       "      <td>3</td>\n",
       "      <td>Outros</td>\n",
       "    </tr>\n",
       "  </tbody>\n",
       "</table>\n",
       "</div>"
      ],
      "text/plain": [
       "                                            Mensagem  Target  Unnamed: 2  \\\n",
       "0  Bem, eu nem sei por onde começar. A história é...       2         NaN   \n",
       "1  Não gostei!, acabou com a expectativa que os o...       2         NaN   \n",
       "2  Venho por meio deste, expressar meu desapontam...       1         NaN   \n",
       "3  O começo do livro é bastante interessante, qun...       2         NaN   \n",
       "4  Veder essa porcaria como se fosse História é u...       2         NaN   \n",
       "\n",
       "  Unnamed: 3                 Unnamed: 4  \n",
       "0        NaN                        NaN  \n",
       "1    LEGENDA                        NaN  \n",
       "2          1     Problemas com a Amazon  \n",
       "3          2  Comentarios sobre o livro  \n",
       "4          3                     Outros  "
      ]
     },
     "execution_count": 339,
     "metadata": {},
     "output_type": "execute_result"
    }
   ],
   "source": [
    "train = pd.read_excel('dados_treino.xlsx')\n",
    "train.head(5)"
   ]
  },
  {
   "cell_type": "code",
   "execution_count": 340,
   "metadata": {},
   "outputs": [
    {
     "data": {
      "text/html": [
       "<div>\n",
       "<style scoped>\n",
       "    .dataframe tbody tr th:only-of-type {\n",
       "        vertical-align: middle;\n",
       "    }\n",
       "\n",
       "    .dataframe tbody tr th {\n",
       "        vertical-align: top;\n",
       "    }\n",
       "\n",
       "    .dataframe thead th {\n",
       "        text-align: right;\n",
       "    }\n",
       "</style>\n",
       "<table border=\"1\" class=\"dataframe\">\n",
       "  <thead>\n",
       "    <tr style=\"text-align: right;\">\n",
       "      <th></th>\n",
       "      <th>Mensagem</th>\n",
       "      <th>Target</th>\n",
       "      <th>Unnamed: 2</th>\n",
       "      <th>Unnamed: 3</th>\n",
       "      <th>Unnamed: 4</th>\n",
       "    </tr>\n",
       "  </thead>\n",
       "  <tbody>\n",
       "    <tr>\n",
       "      <th>0</th>\n",
       "      <td>O livro fala de um contexto bastante interessa...</td>\n",
       "      <td>2</td>\n",
       "      <td>NaN</td>\n",
       "      <td>NaN</td>\n",
       "      <td>NaN</td>\n",
       "    </tr>\n",
       "    <tr>\n",
       "      <th>1</th>\n",
       "      <td>Estava muito empolgada com 90% do livro. As co...</td>\n",
       "      <td>2</td>\n",
       "      <td>NaN</td>\n",
       "      <td>LEGENDA</td>\n",
       "      <td>NaN</td>\n",
       "    </tr>\n",
       "    <tr>\n",
       "      <th>2</th>\n",
       "      <td>História maluca e que não te leva a nada, uma ...</td>\n",
       "      <td>2</td>\n",
       "      <td>NaN</td>\n",
       "      <td>1</td>\n",
       "      <td>Problemas com a Amazon</td>\n",
       "    </tr>\n",
       "    <tr>\n",
       "      <th>3</th>\n",
       "      <td>O autor tenta mostrar outro lado do livro, bus...</td>\n",
       "      <td>2</td>\n",
       "      <td>NaN</td>\n",
       "      <td>2</td>\n",
       "      <td>Comentarios sobre o livro</td>\n",
       "    </tr>\n",
       "    <tr>\n",
       "      <th>4</th>\n",
       "      <td>Maçante, fantasioso. Uma ficção vista pelo ret...</td>\n",
       "      <td>2</td>\n",
       "      <td>NaN</td>\n",
       "      <td>3</td>\n",
       "      <td>Outros</td>\n",
       "    </tr>\n",
       "  </tbody>\n",
       "</table>\n",
       "</div>"
      ],
      "text/plain": [
       "                                            Mensagem  Target  Unnamed: 2  \\\n",
       "0  O livro fala de um contexto bastante interessa...       2         NaN   \n",
       "1  Estava muito empolgada com 90% do livro. As co...       2         NaN   \n",
       "2  História maluca e que não te leva a nada, uma ...       2         NaN   \n",
       "3  O autor tenta mostrar outro lado do livro, bus...       2         NaN   \n",
       "4  Maçante, fantasioso. Uma ficção vista pelo ret...       2         NaN   \n",
       "\n",
       "  Unnamed: 3                 Unnamed: 4  \n",
       "0        NaN                        NaN  \n",
       "1    LEGENDA                        NaN  \n",
       "2          1     Problemas com a Amazon  \n",
       "3          2  Comentarios sobre o livro  \n",
       "4          3                     Outros  "
      ]
     },
     "execution_count": 340,
     "metadata": {},
     "output_type": "execute_result"
    }
   ],
   "source": [
    "test = pd.read_excel('dados_teste.xlsx')\n",
    "test.head(5)"
   ]
  },
  {
   "cell_type": "code",
   "execution_count": 341,
   "metadata": {},
   "outputs": [],
   "source": [
    "stop_words = pd.read_csv('stopwords.csv', header=None)[0].to_list()"
   ]
  },
  {
   "cell_type": "markdown",
   "metadata": {},
   "source": [
    "___\n",
    "## Classificador automático\n"
   ]
  },
  {
   "cell_type": "markdown",
   "metadata": {},
   "source": [
    "Na classificação dos tweets, nós consideramos que somos funcionários da Amazon e gostaríamos de filtrar quais comentários feitos por clientes são relacionados à problemas com a empresa. Para isso, utilizamos 3 variáveis relevantes na classificação: Problemas com a Amazon, comentários sobre o livro e outros.\n",
    "\n",
    "* $A$: Problemas com a Amazon\n",
    "* $L$: Comentários sobre o livro\n",
    "* $O$: Outros\n"
   ]
  },
  {
   "cell_type": "markdown",
   "metadata": {},
   "source": [
    "___\n",
    "### Montando um Classificador Naive-Bayes"
   ]
  },
  {
   "cell_type": "code",
   "execution_count": 342,
   "metadata": {},
   "outputs": [],
   "source": [
    "legenda = {'Problemas com a Amazon': 1, 'Comentários sobre o livro': 2, 'outros': 3}"
   ]
  },
  {
   "cell_type": "code",
   "execution_count": 343,
   "metadata": {},
   "outputs": [],
   "source": [
    "# Removendo as colunas que não serão utilizadas\n",
    "train = train.loc[:,['Mensagem', 'Target']]\n",
    "test = test.loc[:,['Mensagem', 'Target']]"
   ]
  },
  {
   "cell_type": "code",
   "execution_count": 344,
   "metadata": {},
   "outputs": [
    {
     "data": {
      "text/html": [
       "<div>\n",
       "<style scoped>\n",
       "    .dataframe tbody tr th:only-of-type {\n",
       "        vertical-align: middle;\n",
       "    }\n",
       "\n",
       "    .dataframe tbody tr th {\n",
       "        vertical-align: top;\n",
       "    }\n",
       "\n",
       "    .dataframe thead th {\n",
       "        text-align: right;\n",
       "    }\n",
       "</style>\n",
       "<table border=\"1\" class=\"dataframe\">\n",
       "  <thead>\n",
       "    <tr style=\"text-align: right;\">\n",
       "      <th></th>\n",
       "      <th>Mensagem</th>\n",
       "      <th>Target</th>\n",
       "    </tr>\n",
       "  </thead>\n",
       "  <tbody>\n",
       "    <tr>\n",
       "      <th>0</th>\n",
       "      <td>Bem, eu nem sei por onde começar. A história é...</td>\n",
       "      <td>2</td>\n",
       "    </tr>\n",
       "    <tr>\n",
       "      <th>1</th>\n",
       "      <td>Não gostei!, acabou com a expectativa que os o...</td>\n",
       "      <td>2</td>\n",
       "    </tr>\n",
       "    <tr>\n",
       "      <th>2</th>\n",
       "      <td>Venho por meio deste, expressar meu desapontam...</td>\n",
       "      <td>1</td>\n",
       "    </tr>\n",
       "    <tr>\n",
       "      <th>3</th>\n",
       "      <td>O começo do livro é bastante interessante, qun...</td>\n",
       "      <td>2</td>\n",
       "    </tr>\n",
       "    <tr>\n",
       "      <th>4</th>\n",
       "      <td>Veder essa porcaria como se fosse História é u...</td>\n",
       "      <td>2</td>\n",
       "    </tr>\n",
       "  </tbody>\n",
       "</table>\n",
       "</div>"
      ],
      "text/plain": [
       "                                            Mensagem  Target\n",
       "0  Bem, eu nem sei por onde começar. A história é...       2\n",
       "1  Não gostei!, acabou com a expectativa que os o...       2\n",
       "2  Venho por meio deste, expressar meu desapontam...       1\n",
       "3  O começo do livro é bastante interessante, qun...       2\n",
       "4  Veder essa porcaria como se fosse História é u...       2"
      ]
     },
     "execution_count": 344,
     "metadata": {},
     "output_type": "execute_result"
    }
   ],
   "source": [
    "train.head()"
   ]
  },
  {
   "cell_type": "code",
   "execution_count": 345,
   "metadata": {},
   "outputs": [
    {
     "data": {
      "text/html": [
       "<div>\n",
       "<style scoped>\n",
       "    .dataframe tbody tr th:only-of-type {\n",
       "        vertical-align: middle;\n",
       "    }\n",
       "\n",
       "    .dataframe tbody tr th {\n",
       "        vertical-align: top;\n",
       "    }\n",
       "\n",
       "    .dataframe thead th {\n",
       "        text-align: right;\n",
       "    }\n",
       "</style>\n",
       "<table border=\"1\" class=\"dataframe\">\n",
       "  <thead>\n",
       "    <tr style=\"text-align: right;\">\n",
       "      <th></th>\n",
       "      <th>Mensagem</th>\n",
       "      <th>Target</th>\n",
       "    </tr>\n",
       "  </thead>\n",
       "  <tbody>\n",
       "    <tr>\n",
       "      <th>0</th>\n",
       "      <td>O livro fala de um contexto bastante interessa...</td>\n",
       "      <td>2</td>\n",
       "    </tr>\n",
       "    <tr>\n",
       "      <th>1</th>\n",
       "      <td>Estava muito empolgada com 90% do livro. As co...</td>\n",
       "      <td>2</td>\n",
       "    </tr>\n",
       "    <tr>\n",
       "      <th>2</th>\n",
       "      <td>História maluca e que não te leva a nada, uma ...</td>\n",
       "      <td>2</td>\n",
       "    </tr>\n",
       "    <tr>\n",
       "      <th>3</th>\n",
       "      <td>O autor tenta mostrar outro lado do livro, bus...</td>\n",
       "      <td>2</td>\n",
       "    </tr>\n",
       "    <tr>\n",
       "      <th>4</th>\n",
       "      <td>Maçante, fantasioso. Uma ficção vista pelo ret...</td>\n",
       "      <td>2</td>\n",
       "    </tr>\n",
       "  </tbody>\n",
       "</table>\n",
       "</div>"
      ],
      "text/plain": [
       "                                            Mensagem  Target\n",
       "0  O livro fala de um contexto bastante interessa...       2\n",
       "1  Estava muito empolgada com 90% do livro. As co...       2\n",
       "2  História maluca e que não te leva a nada, uma ...       2\n",
       "3  O autor tenta mostrar outro lado do livro, bus...       2\n",
       "4  Maçante, fantasioso. Uma ficção vista pelo ret...       2"
      ]
     },
     "execution_count": 345,
     "metadata": {},
     "output_type": "execute_result"
    }
   ],
   "source": [
    "test.head()"
   ]
  },
  {
   "cell_type": "markdown",
   "metadata": {},
   "source": [
    "<b>Limpeza dos tweets</b>\n",
    "\n",
    "Aqui implementamos uma função que recebe um texto e remove dele todas as pontuações, emoticons e stop words."
   ]
  },
  {
   "cell_type": "code",
   "execution_count": 346,
   "metadata": {},
   "outputs": [],
   "source": [
    "import re \n",
    "\n",
    "def cleanup(text):\n",
    "    pattern = re.compile(r'[\\`\\\"\\!\\-\\.\\:\\?\\;\\$\\'\\,]')\n",
    "    emoji_pattern = re.compile(\"[\"\n",
    "                        u\"\\U0001F600-\\U0001F64F\"  # emoticons\n",
    "                        u\"\\U0001F300-\\U0001F5FF\"  # symbols & pictographs\n",
    "                        u\"\\U0001F680-\\U0001F6FF\"  # transport & map symbols\n",
    "                        u\"\\U0001F1E0-\\U0001F1FF\"  # flags (iOS)\n",
    "                        u\"\\U00002702-\\U000027B0\"\n",
    "                        u\"\\U000024C2-\\U0001F251\"\n",
    "                        \"]+\", flags=re.UNICODE)\n",
    "    \n",
    "    texto_sem_pontos = re.sub(pattern, '', text)\n",
    "    texto_sem_emoticons = re.sub(emoji_pattern, '', texto_sem_pontos)\n",
    "\n",
    "    texto_limpo = ''\n",
    "    for palavra in texto_sem_emoticons.split():\n",
    "        if palavra not in stop_words:\n",
    "            texto_limpo += palavra + ' '\n",
    "\n",
    "    return texto_limpo.lower()"
   ]
  },
  {
   "cell_type": "code",
   "execution_count": 347,
   "metadata": {},
   "outputs": [],
   "source": [
    "train['Mensagem'] = train['Mensagem'].apply(cleanup)\n",
    "test['Mensagem'] = test['Mensagem'].apply(cleanup)\n",
    "train_100 = train.copy()\n",
    "test_100 = test.copy()"
   ]
  },
  {
   "cell_type": "code",
   "execution_count": 348,
   "metadata": {},
   "outputs": [
    {
     "data": {
      "text/html": [
       "<div>\n",
       "<style scoped>\n",
       "    .dataframe tbody tr th:only-of-type {\n",
       "        vertical-align: middle;\n",
       "    }\n",
       "\n",
       "    .dataframe tbody tr th {\n",
       "        vertical-align: top;\n",
       "    }\n",
       "\n",
       "    .dataframe thead th {\n",
       "        text-align: right;\n",
       "    }\n",
       "</style>\n",
       "<table border=\"1\" class=\"dataframe\">\n",
       "  <thead>\n",
       "    <tr style=\"text-align: right;\">\n",
       "      <th></th>\n",
       "      <th>Mensagem</th>\n",
       "      <th>Target</th>\n",
       "    </tr>\n",
       "  </thead>\n",
       "  <tbody>\n",
       "    <tr>\n",
       "      <th>0</th>\n",
       "      <td>bem sei onde começar a história representação ...</td>\n",
       "      <td>2</td>\n",
       "    </tr>\n",
       "    <tr>\n",
       "      <th>1</th>\n",
       "      <td>não gostei acabou expectativa outros livros de...</td>\n",
       "      <td>2</td>\n",
       "    </tr>\n",
       "    <tr>\n",
       "      <th>2</th>\n",
       "      <td>venho meio deste expressar desapontamento loja...</td>\n",
       "      <td>1</td>\n",
       "    </tr>\n",
       "    <tr>\n",
       "      <th>3</th>\n",
       "      <td>o começo livro bastante interessante qundo tud...</td>\n",
       "      <td>2</td>\n",
       "    </tr>\n",
       "    <tr>\n",
       "      <th>4</th>\n",
       "      <td>veder porcaria história crime afronta historia...</td>\n",
       "      <td>2</td>\n",
       "    </tr>\n",
       "  </tbody>\n",
       "</table>\n",
       "</div>"
      ],
      "text/plain": [
       "                                            Mensagem  Target\n",
       "0  bem sei onde começar a história representação ...       2\n",
       "1  não gostei acabou expectativa outros livros de...       2\n",
       "2  venho meio deste expressar desapontamento loja...       1\n",
       "3  o começo livro bastante interessante qundo tud...       2\n",
       "4  veder porcaria história crime afronta historia...       2"
      ]
     },
     "execution_count": 348,
     "metadata": {},
     "output_type": "execute_result"
    }
   ],
   "source": [
    "train.head()"
   ]
  },
  {
   "cell_type": "code",
   "execution_count": 349,
   "metadata": {},
   "outputs": [
    {
     "data": {
      "text/html": [
       "<div>\n",
       "<style scoped>\n",
       "    .dataframe tbody tr th:only-of-type {\n",
       "        vertical-align: middle;\n",
       "    }\n",
       "\n",
       "    .dataframe tbody tr th {\n",
       "        vertical-align: top;\n",
       "    }\n",
       "\n",
       "    .dataframe thead th {\n",
       "        text-align: right;\n",
       "    }\n",
       "</style>\n",
       "<table border=\"1\" class=\"dataframe\">\n",
       "  <thead>\n",
       "    <tr style=\"text-align: right;\">\n",
       "      <th></th>\n",
       "      <th>Mensagem</th>\n",
       "      <th>Target</th>\n",
       "    </tr>\n",
       "  </thead>\n",
       "  <tbody>\n",
       "    <tr>\n",
       "      <th>0</th>\n",
       "      <td>o livro fala contexto bastante interessante po...</td>\n",
       "      <td>2</td>\n",
       "    </tr>\n",
       "    <tr>\n",
       "      <th>1</th>\n",
       "      <td>estava empolgada 90% livro as coisas começaram...</td>\n",
       "      <td>2</td>\n",
       "    </tr>\n",
       "    <tr>\n",
       "      <th>2</th>\n",
       "      <td>história maluca leva nada viagem sentido</td>\n",
       "      <td>2</td>\n",
       "    </tr>\n",
       "    <tr>\n",
       "      <th>3</th>\n",
       "      <td>o autor tenta mostrar outro lado livro buscand...</td>\n",
       "      <td>2</td>\n",
       "    </tr>\n",
       "    <tr>\n",
       "      <th>4</th>\n",
       "      <td>maçante fantasioso uma ficção vista retrovisor...</td>\n",
       "      <td>2</td>\n",
       "    </tr>\n",
       "  </tbody>\n",
       "</table>\n",
       "</div>"
      ],
      "text/plain": [
       "                                            Mensagem  Target\n",
       "0  o livro fala contexto bastante interessante po...       2\n",
       "1  estava empolgada 90% livro as coisas começaram...       2\n",
       "2          história maluca leva nada viagem sentido        2\n",
       "3  o autor tenta mostrar outro lado livro buscand...       2\n",
       "4  maçante fantasioso uma ficção vista retrovisor...       2"
      ]
     },
     "execution_count": 349,
     "metadata": {},
     "output_type": "execute_result"
    }
   ],
   "source": [
    "test.head()"
   ]
  },
  {
   "cell_type": "code",
   "execution_count": 350,
   "metadata": {},
   "outputs": [],
   "source": [
    "# Transformando os valores numéricos da variável target na base de dados treino em categóricos\n",
    "train['Mensagem'] = train['Mensagem'].astype('category')\n",
    "train['Target'] = train['Target'].astype('category')\n",
    "\n",
    "train['Target'] = train['Target'].cat.rename_categories(['Problemas com a Amazon', 'Comentários sobre o livro', 'Outros'])"
   ]
  },
  {
   "cell_type": "code",
   "execution_count": 351,
   "metadata": {},
   "outputs": [
    {
     "data": {
      "text/html": [
       "<div>\n",
       "<style scoped>\n",
       "    .dataframe tbody tr th:only-of-type {\n",
       "        vertical-align: middle;\n",
       "    }\n",
       "\n",
       "    .dataframe tbody tr th {\n",
       "        vertical-align: top;\n",
       "    }\n",
       "\n",
       "    .dataframe thead th {\n",
       "        text-align: right;\n",
       "    }\n",
       "</style>\n",
       "<table border=\"1\" class=\"dataframe\">\n",
       "  <thead>\n",
       "    <tr style=\"text-align: right;\">\n",
       "      <th></th>\n",
       "      <th>Mensagem</th>\n",
       "      <th>Target</th>\n",
       "    </tr>\n",
       "  </thead>\n",
       "  <tbody>\n",
       "    <tr>\n",
       "      <th>0</th>\n",
       "      <td>bem sei onde começar a história representação ...</td>\n",
       "      <td>Comentários sobre o livro</td>\n",
       "    </tr>\n",
       "    <tr>\n",
       "      <th>1</th>\n",
       "      <td>não gostei acabou expectativa outros livros de...</td>\n",
       "      <td>Comentários sobre o livro</td>\n",
       "    </tr>\n",
       "    <tr>\n",
       "      <th>2</th>\n",
       "      <td>venho meio deste expressar desapontamento loja...</td>\n",
       "      <td>Problemas com a Amazon</td>\n",
       "    </tr>\n",
       "    <tr>\n",
       "      <th>3</th>\n",
       "      <td>o começo livro bastante interessante qundo tud...</td>\n",
       "      <td>Comentários sobre o livro</td>\n",
       "    </tr>\n",
       "    <tr>\n",
       "      <th>4</th>\n",
       "      <td>veder porcaria história crime afronta historia...</td>\n",
       "      <td>Comentários sobre o livro</td>\n",
       "    </tr>\n",
       "  </tbody>\n",
       "</table>\n",
       "</div>"
      ],
      "text/plain": [
       "                                            Mensagem  \\\n",
       "0  bem sei onde começar a história representação ...   \n",
       "1  não gostei acabou expectativa outros livros de...   \n",
       "2  venho meio deste expressar desapontamento loja...   \n",
       "3  o começo livro bastante interessante qundo tud...   \n",
       "4  veder porcaria história crime afronta historia...   \n",
       "\n",
       "                      Target  \n",
       "0  Comentários sobre o livro  \n",
       "1  Comentários sobre o livro  \n",
       "2     Problemas com a Amazon  \n",
       "3  Comentários sobre o livro  \n",
       "4  Comentários sobre o livro  "
      ]
     },
     "execution_count": 351,
     "metadata": {},
     "output_type": "execute_result"
    }
   ],
   "source": [
    "train.head()"
   ]
  },
  {
   "cell_type": "code",
   "execution_count": 352,
   "metadata": {},
   "outputs": [],
   "source": [
    "# Transformando os valores numéricos da variável target na base de dados teste em categóricos\n",
    "test['Mensagem'] = test['Mensagem'].astype('category')\n",
    "test['Target'] = test['Target'].astype('category')\n",
    "\n",
    "test['Target'] = test['Target'].cat.rename_categories(['Problemas com a Amazon', 'Comentários sobre o livro', 'Outros'])"
   ]
  },
  {
   "cell_type": "code",
   "execution_count": 353,
   "metadata": {},
   "outputs": [
    {
     "data": {
      "text/html": [
       "<div>\n",
       "<style scoped>\n",
       "    .dataframe tbody tr th:only-of-type {\n",
       "        vertical-align: middle;\n",
       "    }\n",
       "\n",
       "    .dataframe tbody tr th {\n",
       "        vertical-align: top;\n",
       "    }\n",
       "\n",
       "    .dataframe thead th {\n",
       "        text-align: right;\n",
       "    }\n",
       "</style>\n",
       "<table border=\"1\" class=\"dataframe\">\n",
       "  <thead>\n",
       "    <tr style=\"text-align: right;\">\n",
       "      <th></th>\n",
       "      <th>Mensagem</th>\n",
       "      <th>Target</th>\n",
       "    </tr>\n",
       "  </thead>\n",
       "  <tbody>\n",
       "    <tr>\n",
       "      <th>0</th>\n",
       "      <td>o livro fala contexto bastante interessante po...</td>\n",
       "      <td>Comentários sobre o livro</td>\n",
       "    </tr>\n",
       "    <tr>\n",
       "      <th>1</th>\n",
       "      <td>estava empolgada 90% livro as coisas começaram...</td>\n",
       "      <td>Comentários sobre o livro</td>\n",
       "    </tr>\n",
       "    <tr>\n",
       "      <th>2</th>\n",
       "      <td>história maluca leva nada viagem sentido</td>\n",
       "      <td>Comentários sobre o livro</td>\n",
       "    </tr>\n",
       "    <tr>\n",
       "      <th>3</th>\n",
       "      <td>o autor tenta mostrar outro lado livro buscand...</td>\n",
       "      <td>Comentários sobre o livro</td>\n",
       "    </tr>\n",
       "    <tr>\n",
       "      <th>4</th>\n",
       "      <td>maçante fantasioso uma ficção vista retrovisor...</td>\n",
       "      <td>Comentários sobre o livro</td>\n",
       "    </tr>\n",
       "  </tbody>\n",
       "</table>\n",
       "</div>"
      ],
      "text/plain": [
       "                                            Mensagem  \\\n",
       "0  o livro fala contexto bastante interessante po...   \n",
       "1  estava empolgada 90% livro as coisas começaram...   \n",
       "2          história maluca leva nada viagem sentido    \n",
       "3  o autor tenta mostrar outro lado livro buscand...   \n",
       "4  maçante fantasioso uma ficção vista retrovisor...   \n",
       "\n",
       "                      Target  \n",
       "0  Comentários sobre o livro  \n",
       "1  Comentários sobre o livro  \n",
       "2  Comentários sobre o livro  \n",
       "3  Comentários sobre o livro  \n",
       "4  Comentários sobre o livro  "
      ]
     },
     "execution_count": 353,
     "metadata": {},
     "output_type": "execute_result"
    }
   ],
   "source": [
    "test.head()"
   ]
  },
  {
   "cell_type": "markdown",
   "metadata": {},
   "source": [
    "<b>Tabela de frequências das palavras</b>\n",
    "\n",
    "Aqui, conseguimos obter as probabilidades de cada categoria:\n",
    "\n",
    "* $P(A)$ = 0.686667\n",
    "* $P(L)$ = 0.213333\n",
    "* $P(O)$ = 0.1"
   ]
  },
  {
   "cell_type": "code",
   "execution_count": 354,
   "metadata": {},
   "outputs": [
    {
     "data": {
      "text/html": [
       "<div>\n",
       "<style scoped>\n",
       "    .dataframe tbody tr th:only-of-type {\n",
       "        vertical-align: middle;\n",
       "    }\n",
       "\n",
       "    .dataframe tbody tr th {\n",
       "        vertical-align: top;\n",
       "    }\n",
       "\n",
       "    .dataframe thead th {\n",
       "        text-align: right;\n",
       "    }\n",
       "</style>\n",
       "<table border=\"1\" class=\"dataframe\">\n",
       "  <thead>\n",
       "    <tr style=\"text-align: right;\">\n",
       "      <th></th>\n",
       "      <th>proportion</th>\n",
       "    </tr>\n",
       "    <tr>\n",
       "      <th>Target</th>\n",
       "      <th></th>\n",
       "    </tr>\n",
       "  </thead>\n",
       "  <tbody>\n",
       "    <tr>\n",
       "      <th>Comentários sobre o livro</th>\n",
       "      <td>0.686667</td>\n",
       "    </tr>\n",
       "    <tr>\n",
       "      <th>Problemas com a Amazon</th>\n",
       "      <td>0.213333</td>\n",
       "    </tr>\n",
       "    <tr>\n",
       "      <th>Outros</th>\n",
       "      <td>0.100000</td>\n",
       "    </tr>\n",
       "  </tbody>\n",
       "</table>\n",
       "</div>"
      ],
      "text/plain": [
       "                           proportion\n",
       "Target                               \n",
       "Comentários sobre o livro    0.686667\n",
       "Problemas com a Amazon       0.213333\n",
       "Outros                       0.100000"
      ]
     },
     "execution_count": 354,
     "metadata": {},
     "output_type": "execute_result"
    }
   ],
   "source": [
    "tabela_relativa = train['Target'].value_counts(True)\n",
    "\n",
    "P_amazon = tabela_relativa['Problemas com a Amazon']\n",
    "P_livro = tabela_relativa['Comentários sobre o livro']\n",
    "P_outros = tabela_relativa['Outros']\n",
    "tabela_relativa.to_frame()"
   ]
  },
  {
   "cell_type": "code",
   "execution_count": 355,
   "metadata": {},
   "outputs": [],
   "source": [
    "palavras = ''\n",
    "\n",
    "for i in range(len(train['Mensagem'])):\n",
    "    palavras += train['Mensagem'][i] + ' '\n",
    "\n",
    "palavras = palavras.split()\n",
    "palavras = pd.Series(list(set(palavras))) # Variável que armazena todas as palavras diferentes da base de treino\n",
    "n_palavras_diff = len(palavras) # Variável que armazena a quantidade de palavras diferentes da base de treino"
   ]
  },
  {
   "cell_type": "code",
   "execution_count": 356,
   "metadata": {},
   "outputs": [],
   "source": [
    "palavras_amazon = ''\n",
    "\n",
    "amazon = train.loc[train['Target'] == 'Problemas com a Amazon', ['Mensagem']]\n",
    "amazon = amazon.reset_index(drop=True)\n",
    "\n",
    "for i in range(len(amazon['Mensagem'])):\n",
    "    palavras_amazon += amazon['Mensagem'][i] + ' '\n",
    "\n",
    "palavras_amazon_lista = palavras_amazon.split()\n",
    "palavras_amazon = pd.Series(palavras_amazon_lista)\n",
    "P_palavra_dado_amazon = palavras_amazon.value_counts() # Variável que armazena as palavras e suas respectivas quantidades de vezes que apareceram na categoria Amazon\n",
    "n_palavras_amazon = len(palavras_amazon) # Variável que armazena a quantidade de palavras na categoria Amazon"
   ]
  },
  {
   "cell_type": "code",
   "execution_count": 357,
   "metadata": {},
   "outputs": [],
   "source": [
    "palavras_livro = ''\n",
    "\n",
    "livro = train.loc[train['Target'] == 'Comentários sobre o livro', ['Mensagem']]\n",
    "livro = livro.reset_index(drop=True)\n",
    "\n",
    "for i in range(len(livro['Mensagem'])):\n",
    "    palavras_livro += livro['Mensagem'][i] + ' '\n",
    "\n",
    "palavras_livro_lista = palavras_livro.split()\n",
    "palavras_livro = pd.Series(palavras_livro_lista)\n",
    "P_palavra_dado_livro = palavras_livro.value_counts() # Variável que armazena as palavras e suas respectivas quantidades de vezes que apareceram na categoria Livros\n",
    "n_palavras_livro = len(palavras_livro) # Variável que armazena a quantidade de palavras na categoria Livros"
   ]
  },
  {
   "cell_type": "code",
   "execution_count": 358,
   "metadata": {},
   "outputs": [],
   "source": [
    "palavras_outros = ''\n",
    "\n",
    "outros = train.loc[train['Target'] == 'Outros', ['Mensagem']]\n",
    "outros = outros.reset_index(drop=True)\n",
    "\n",
    "for i in range(len(outros['Mensagem'])):\n",
    "    palavras_outros += outros['Mensagem'][i] + ' '\n",
    "\n",
    "palavras_outros_lista = palavras_outros.split()\n",
    "palavras_outros = pd.Series(palavras_outros_lista)\n",
    "P_palavra_dado_outros = palavras_outros.value_counts() # Variável que armazena as palavras e suas respectivas quantidades de vezes que apareceram na categoria Outros\n",
    "n_palavras_outros = len(palavras_outros) # Variável que armazena a quantidade de palavras na categoria Outros"
   ]
  },
  {
   "cell_type": "markdown",
   "metadata": {},
   "source": [
    "___\n",
    "### Verificando a performance do Classificador\n",
    "\n",
    "Aqui testaremos o nosso classificador utilizando os métodos de Naive Bayes e Suavização de Laplace"
   ]
  },
  {
   "cell_type": "code",
   "execution_count": 359,
   "metadata": {},
   "outputs": [],
   "source": [
    "for i, frase in test['Mensagem'].items():\n",
    "    frase = frase.split()\n",
    "    prob_amazon = 1\n",
    "    prob_livro = 1\n",
    "    prob_outros = 1\n",
    "    for palavra in frase:\n",
    "        if palavra not in palavras_amazon_lista:\n",
    "            prob_amazon *= (0 + 1)/(n_palavras_amazon + n_palavras_diff) * 10e2\n",
    "        else:\n",
    "            prob_amazon *= (P_palavra_dado_amazon[palavra] + 1)/(n_palavras_amazon + n_palavras_diff) * 10e2\n",
    "        \n",
    "        if palavra not in palavras_livro_lista:\n",
    "            prob_livro *= (0 + 1)/(n_palavras_livro + n_palavras_diff) * 10e2\n",
    "        else:\n",
    "            prob_livro *= (P_palavra_dado_livro[palavra] + 1)/(n_palavras_livro + n_palavras_diff) * 10e2\n",
    "        \n",
    "        if palavra not in palavras_outros_lista:\n",
    "            prob_outros *= (0 + 1)/(n_palavras_outros + n_palavras_diff) * 10e2\n",
    "        else:\n",
    "            prob_outros *= (P_palavra_dado_outros[palavra] + 1)/(n_palavras_outros + n_palavras_diff) * 10e2\n",
    "    \n",
    "    if prob_amazon > prob_livro and prob_amazon > prob_outros:\n",
    "        test.loc[i, 'Predição'] = 'Problemas com a Amazon'\n",
    "    elif prob_livro > prob_amazon and prob_livro > prob_outros:\n",
    "        test.loc[i, 'Predição'] = 'Comentários sobre o livro'\n",
    "    elif prob_outros > prob_amazon and prob_outros > prob_livro:\n",
    "        test.loc[i, 'Predição'] = 'Outros'"
   ]
  },
  {
   "cell_type": "code",
   "execution_count": 360,
   "metadata": {},
   "outputs": [],
   "source": [
    "test['Predição'] = test['Predição'].astype('category')\n",
    "\n",
    "test['Predição'] = test['Predição'].cat.reorder_categories(['Problemas com a Amazon', 'Comentários sobre o livro', 'Outros'])"
   ]
  },
  {
   "cell_type": "code",
   "execution_count": 361,
   "metadata": {},
   "outputs": [
    {
     "data": {
      "text/html": [
       "<div>\n",
       "<style scoped>\n",
       "    .dataframe tbody tr th:only-of-type {\n",
       "        vertical-align: middle;\n",
       "    }\n",
       "\n",
       "    .dataframe tbody tr th {\n",
       "        vertical-align: top;\n",
       "    }\n",
       "\n",
       "    .dataframe thead th {\n",
       "        text-align: right;\n",
       "    }\n",
       "</style>\n",
       "<table border=\"1\" class=\"dataframe\">\n",
       "  <thead>\n",
       "    <tr style=\"text-align: right;\">\n",
       "      <th>Target</th>\n",
       "      <th>Problemas com a Amazon</th>\n",
       "      <th>Comentários sobre o livro</th>\n",
       "      <th>Outros</th>\n",
       "    </tr>\n",
       "    <tr>\n",
       "      <th>Predição</th>\n",
       "      <th></th>\n",
       "      <th></th>\n",
       "      <th></th>\n",
       "    </tr>\n",
       "  </thead>\n",
       "  <tbody>\n",
       "    <tr>\n",
       "      <th>Problemas com a Amazon</th>\n",
       "      <td>0.190</td>\n",
       "      <td>0.030</td>\n",
       "      <td>0.055</td>\n",
       "    </tr>\n",
       "    <tr>\n",
       "      <th>Comentários sobre o livro</th>\n",
       "      <td>0.000</td>\n",
       "      <td>0.540</td>\n",
       "      <td>0.040</td>\n",
       "    </tr>\n",
       "    <tr>\n",
       "      <th>Outros</th>\n",
       "      <td>0.005</td>\n",
       "      <td>0.095</td>\n",
       "      <td>0.045</td>\n",
       "    </tr>\n",
       "  </tbody>\n",
       "</table>\n",
       "</div>"
      ],
      "text/plain": [
       "Target                     Problemas com a Amazon  Comentários sobre o livro  \\\n",
       "Predição                                                                       \n",
       "Problemas com a Amazon                      0.190                      0.030   \n",
       "Comentários sobre o livro                   0.000                      0.540   \n",
       "Outros                                      0.005                      0.095   \n",
       "\n",
       "Target                     Outros  \n",
       "Predição                           \n",
       "Problemas com a Amazon      0.055  \n",
       "Comentários sobre o livro   0.040  \n",
       "Outros                      0.045  "
      ]
     },
     "execution_count": 361,
     "metadata": {},
     "output_type": "execute_result"
    }
   ],
   "source": [
    "tabela = pd.crosstab(test['Predição'], test['Target'], normalize='all')\n",
    "tabela"
   ]
  },
  {
   "cell_type": "code",
   "execution_count": 362,
   "metadata": {},
   "outputs": [
    {
     "name": "stdout",
     "output_type": "stream",
     "text": [
      "0.19 0.08499999999999999 0.54 0.04 0.045 0.1\n"
     ]
    }
   ],
   "source": [
    "V_amazon = tabela['Problemas com a Amazon']['Problemas com a Amazon']\n",
    "F_amazon = tabela['Comentários sobre o livro']['Problemas com a Amazon'] + tabela['Outros']['Problemas com a Amazon']\n",
    "V_livro = tabela['Comentários sobre o livro']['Comentários sobre o livro']\n",
    "F_livro = tabela['Problemas com a Amazon']['Comentários sobre o livro'] + tabela['Outros']['Comentários sobre o livro']\n",
    "V_outros = tabela['Outros']['Outros']\n",
    "F_outros = tabela['Comentários sobre o livro']['Outros'] + tabela['Problemas com a Amazon']['Outros']\n",
    "Acur = V_amazon + V_livro + V_outros\n",
    "print(V_amazon, F_amazon, V_livro, F_livro, V_outros, F_outros)"
   ]
  },
  {
   "cell_type": "markdown",
   "metadata": {},
   "source": [
    "___\n",
    "## Concluindo"
   ]
  },
  {
   "cell_type": "code",
   "execution_count": null,
   "metadata": {},
   "outputs": [],
   "source": []
  },
  {
   "cell_type": "code",
   "execution_count": null,
   "metadata": {},
   "outputs": [],
   "source": []
  },
  {
   "cell_type": "code",
   "execution_count": null,
   "metadata": {},
   "outputs": [],
   "source": []
  },
  {
   "cell_type": "markdown",
   "metadata": {},
   "source": [
    "### Diferentes cenários para o classificador Naive-Bayes\n",
    "* <b>Detector de plágio em texto de alunos</b> : A partir de uma base de dados com textos gerados por inteligências artificiais, é possível comparar as identidades textuais a fim de identificar algum plágio.\n",
    "\n",
    "* <b>Detecção de Tópicos de Interesse</b> : Em aplicações de recomendação, o Naive-Bayes pode ajudar a identificar tópicos de interesse do usuário, analisando os textos que o usuário lê ou interage com regularidade."
   ]
  },
  {
   "cell_type": "markdown",
   "metadata": {},
   "source": [
    "___\n",
    "### Qualidade do Classificador a partir de novas separações dos tweets entre Treinamento e Teste\n",
    "\n",
    "Caso for fazer esse item do Projeto"
   ]
  },
  {
   "cell_type": "code",
   "execution_count": 363,
   "metadata": {},
   "outputs": [],
   "source": [
    "import sklearn.model_selection as skl"
   ]
  },
  {
   "cell_type": "code",
   "execution_count": 364,
   "metadata": {},
   "outputs": [
    {
     "data": {
      "text/html": [
       "<div>\n",
       "<style scoped>\n",
       "    .dataframe tbody tr th:only-of-type {\n",
       "        vertical-align: middle;\n",
       "    }\n",
       "\n",
       "    .dataframe tbody tr th {\n",
       "        vertical-align: top;\n",
       "    }\n",
       "\n",
       "    .dataframe thead th {\n",
       "        text-align: right;\n",
       "    }\n",
       "</style>\n",
       "<table border=\"1\" class=\"dataframe\">\n",
       "  <thead>\n",
       "    <tr style=\"text-align: right;\">\n",
       "      <th></th>\n",
       "      <th>Mensagem</th>\n",
       "      <th>Target</th>\n",
       "    </tr>\n",
       "  </thead>\n",
       "  <tbody>\n",
       "    <tr>\n",
       "      <th>0</th>\n",
       "      <td>bem sei onde começar a história representação ...</td>\n",
       "      <td>2</td>\n",
       "    </tr>\n",
       "    <tr>\n",
       "      <th>1</th>\n",
       "      <td>não gostei acabou expectativa outros livros de...</td>\n",
       "      <td>2</td>\n",
       "    </tr>\n",
       "    <tr>\n",
       "      <th>2</th>\n",
       "      <td>venho meio deste expressar desapontamento loja...</td>\n",
       "      <td>1</td>\n",
       "    </tr>\n",
       "    <tr>\n",
       "      <th>3</th>\n",
       "      <td>o começo livro bastante interessante qundo tud...</td>\n",
       "      <td>2</td>\n",
       "    </tr>\n",
       "    <tr>\n",
       "      <th>4</th>\n",
       "      <td>veder porcaria história crime afronta historia...</td>\n",
       "      <td>2</td>\n",
       "    </tr>\n",
       "    <tr>\n",
       "      <th>...</th>\n",
       "      <td>...</td>\n",
       "      <td>...</td>\n",
       "    </tr>\n",
       "    <tr>\n",
       "      <th>295</th>\n",
       "      <td>achei livro deu ênfase sexo realmente romance ...</td>\n",
       "      <td>2</td>\n",
       "    </tr>\n",
       "    <tr>\n",
       "      <th>296</th>\n",
       "      <td>não recomendo honestamente recomendo o conteúd...</td>\n",
       "      <td>2</td>\n",
       "    </tr>\n",
       "    <tr>\n",
       "      <th>297</th>\n",
       "      <td>fazer pedido vi pocket comentários espero sinc...</td>\n",
       "      <td>1</td>\n",
       "    </tr>\n",
       "    <tr>\n",
       "      <th>298</th>\n",
       "      <td>a personagem principal parece sofrer espécie m...</td>\n",
       "      <td>2</td>\n",
       "    </tr>\n",
       "    <tr>\n",
       "      <th>299</th>\n",
       "      <td>é daqueles livros leitura rápida achei bacana ...</td>\n",
       "      <td>2</td>\n",
       "    </tr>\n",
       "  </tbody>\n",
       "</table>\n",
       "<p>300 rows × 2 columns</p>\n",
       "</div>"
      ],
      "text/plain": [
       "                                              Mensagem  Target\n",
       "0    bem sei onde começar a história representação ...       2\n",
       "1    não gostei acabou expectativa outros livros de...       2\n",
       "2    venho meio deste expressar desapontamento loja...       1\n",
       "3    o começo livro bastante interessante qundo tud...       2\n",
       "4    veder porcaria história crime afronta historia...       2\n",
       "..                                                 ...     ...\n",
       "295  achei livro deu ênfase sexo realmente romance ...       2\n",
       "296  não recomendo honestamente recomendo o conteúd...       2\n",
       "297  fazer pedido vi pocket comentários espero sinc...       1\n",
       "298  a personagem principal parece sofrer espécie m...       2\n",
       "299  é daqueles livros leitura rápida achei bacana ...       2\n",
       "\n",
       "[300 rows x 2 columns]"
      ]
     },
     "execution_count": 364,
     "metadata": {},
     "output_type": "execute_result"
    }
   ],
   "source": [
    "train_100"
   ]
  },
  {
   "cell_type": "code",
   "execution_count": 365,
   "metadata": {},
   "outputs": [
    {
     "data": {
      "text/html": [
       "<div>\n",
       "<style scoped>\n",
       "    .dataframe tbody tr th:only-of-type {\n",
       "        vertical-align: middle;\n",
       "    }\n",
       "\n",
       "    .dataframe tbody tr th {\n",
       "        vertical-align: top;\n",
       "    }\n",
       "\n",
       "    .dataframe thead th {\n",
       "        text-align: right;\n",
       "    }\n",
       "</style>\n",
       "<table border=\"1\" class=\"dataframe\">\n",
       "  <thead>\n",
       "    <tr style=\"text-align: right;\">\n",
       "      <th></th>\n",
       "      <th>Mensagem</th>\n",
       "      <th>Target</th>\n",
       "    </tr>\n",
       "  </thead>\n",
       "  <tbody>\n",
       "    <tr>\n",
       "      <th>0</th>\n",
       "      <td>o livro fala contexto bastante interessante po...</td>\n",
       "      <td>2</td>\n",
       "    </tr>\n",
       "    <tr>\n",
       "      <th>1</th>\n",
       "      <td>estava empolgada 90% livro as coisas começaram...</td>\n",
       "      <td>2</td>\n",
       "    </tr>\n",
       "    <tr>\n",
       "      <th>2</th>\n",
       "      <td>história maluca leva nada viagem sentido</td>\n",
       "      <td>2</td>\n",
       "    </tr>\n",
       "    <tr>\n",
       "      <th>3</th>\n",
       "      <td>o autor tenta mostrar outro lado livro buscand...</td>\n",
       "      <td>2</td>\n",
       "    </tr>\n",
       "    <tr>\n",
       "      <th>4</th>\n",
       "      <td>maçante fantasioso uma ficção vista retrovisor...</td>\n",
       "      <td>2</td>\n",
       "    </tr>\n",
       "    <tr>\n",
       "      <th>...</th>\n",
       "      <td>...</td>\n",
       "      <td>...</td>\n",
       "    </tr>\n",
       "    <tr>\n",
       "      <th>195</th>\n",
       "      <td>no início achei interessante garota virgem apa...</td>\n",
       "      <td>2</td>\n",
       "    </tr>\n",
       "    <tr>\n",
       "      <th>196</th>\n",
       "      <td>cheio teorias conspiração</td>\n",
       "      <td>2</td>\n",
       "    </tr>\n",
       "    <tr>\n",
       "      <th>197</th>\n",
       "      <td>por versão pocket espera qualidade inferior as...</td>\n",
       "      <td>3</td>\n",
       "    </tr>\n",
       "    <tr>\n",
       "      <th>198</th>\n",
       "      <td>o livro ficcção destópica visa criticar certas...</td>\n",
       "      <td>2</td>\n",
       "    </tr>\n",
       "    <tr>\n",
       "      <th>199</th>\n",
       "      <td>o livro começa bem poucos começa fica desinter...</td>\n",
       "      <td>2</td>\n",
       "    </tr>\n",
       "  </tbody>\n",
       "</table>\n",
       "<p>200 rows × 2 columns</p>\n",
       "</div>"
      ],
      "text/plain": [
       "                                              Mensagem  Target\n",
       "0    o livro fala contexto bastante interessante po...       2\n",
       "1    estava empolgada 90% livro as coisas começaram...       2\n",
       "2            história maluca leva nada viagem sentido        2\n",
       "3    o autor tenta mostrar outro lado livro buscand...       2\n",
       "4    maçante fantasioso uma ficção vista retrovisor...       2\n",
       "..                                                 ...     ...\n",
       "195  no início achei interessante garota virgem apa...       2\n",
       "196                         cheio teorias conspiração        2\n",
       "197  por versão pocket espera qualidade inferior as...       3\n",
       "198  o livro ficcção destópica visa criticar certas...       2\n",
       "199  o livro começa bem poucos começa fica desinter...       2\n",
       "\n",
       "[200 rows x 2 columns]"
      ]
     },
     "execution_count": 365,
     "metadata": {},
     "output_type": "execute_result"
    }
   ],
   "source": [
    "test_100"
   ]
  },
  {
   "cell_type": "code",
   "execution_count": 366,
   "metadata": {},
   "outputs": [
    {
     "data": {
      "text/html": [
       "<div>\n",
       "<style scoped>\n",
       "    .dataframe tbody tr th:only-of-type {\n",
       "        vertical-align: middle;\n",
       "    }\n",
       "\n",
       "    .dataframe tbody tr th {\n",
       "        vertical-align: top;\n",
       "    }\n",
       "\n",
       "    .dataframe thead th {\n",
       "        text-align: right;\n",
       "    }\n",
       "</style>\n",
       "<table border=\"1\" class=\"dataframe\">\n",
       "  <thead>\n",
       "    <tr style=\"text-align: right;\">\n",
       "      <th></th>\n",
       "      <th>Mensagem</th>\n",
       "      <th>Target</th>\n",
       "    </tr>\n",
       "  </thead>\n",
       "  <tbody>\n",
       "    <tr>\n",
       "      <th>0</th>\n",
       "      <td>bem sei onde começar a história representação ...</td>\n",
       "      <td>2</td>\n",
       "    </tr>\n",
       "    <tr>\n",
       "      <th>1</th>\n",
       "      <td>não gostei acabou expectativa outros livros de...</td>\n",
       "      <td>2</td>\n",
       "    </tr>\n",
       "    <tr>\n",
       "      <th>2</th>\n",
       "      <td>venho meio deste expressar desapontamento loja...</td>\n",
       "      <td>1</td>\n",
       "    </tr>\n",
       "    <tr>\n",
       "      <th>3</th>\n",
       "      <td>o começo livro bastante interessante qundo tud...</td>\n",
       "      <td>2</td>\n",
       "    </tr>\n",
       "    <tr>\n",
       "      <th>4</th>\n",
       "      <td>veder porcaria história crime afronta historia...</td>\n",
       "      <td>2</td>\n",
       "    </tr>\n",
       "    <tr>\n",
       "      <th>...</th>\n",
       "      <td>...</td>\n",
       "      <td>...</td>\n",
       "    </tr>\n",
       "    <tr>\n",
       "      <th>495</th>\n",
       "      <td>no início achei interessante garota virgem apa...</td>\n",
       "      <td>2</td>\n",
       "    </tr>\n",
       "    <tr>\n",
       "      <th>496</th>\n",
       "      <td>cheio teorias conspiração</td>\n",
       "      <td>2</td>\n",
       "    </tr>\n",
       "    <tr>\n",
       "      <th>497</th>\n",
       "      <td>por versão pocket espera qualidade inferior as...</td>\n",
       "      <td>3</td>\n",
       "    </tr>\n",
       "    <tr>\n",
       "      <th>498</th>\n",
       "      <td>o livro ficcção destópica visa criticar certas...</td>\n",
       "      <td>2</td>\n",
       "    </tr>\n",
       "    <tr>\n",
       "      <th>499</th>\n",
       "      <td>o livro começa bem poucos começa fica desinter...</td>\n",
       "      <td>2</td>\n",
       "    </tr>\n",
       "  </tbody>\n",
       "</table>\n",
       "<p>500 rows × 2 columns</p>\n",
       "</div>"
      ],
      "text/plain": [
       "                                              Mensagem  Target\n",
       "0    bem sei onde começar a história representação ...       2\n",
       "1    não gostei acabou expectativa outros livros de...       2\n",
       "2    venho meio deste expressar desapontamento loja...       1\n",
       "3    o começo livro bastante interessante qundo tud...       2\n",
       "4    veder porcaria história crime afronta historia...       2\n",
       "..                                                 ...     ...\n",
       "495  no início achei interessante garota virgem apa...       2\n",
       "496                         cheio teorias conspiração        2\n",
       "497  por versão pocket espera qualidade inferior as...       3\n",
       "498  o livro ficcção destópica visa criticar certas...       2\n",
       "499  o livro começa bem poucos começa fica desinter...       2\n",
       "\n",
       "[500 rows x 2 columns]"
      ]
     },
     "execution_count": 366,
     "metadata": {},
     "output_type": "execute_result"
    }
   ],
   "source": [
    "dados_100 = pd.concat([train_100, test_100])\n",
    "dados_100 = dados_100.reset_index(drop=True)\n",
    "dados_100"
   ]
  },
  {
   "cell_type": "code",
   "execution_count": 367,
   "metadata": {},
   "outputs": [],
   "source": [
    "Acur_lista = []"
   ]
  },
  {
   "cell_type": "code",
   "execution_count": 368,
   "metadata": {},
   "outputs": [],
   "source": [
    "for rs in range(100):\n",
    "    train, test = skl.train_test_split(dados_100, test_size=0.4, random_state=rs)\n",
    "    \n",
    "    train = train.reset_index(drop=True)\n",
    "    \n",
    "    test = test.reset_index(drop=True)\n",
    "    \n",
    "    train['Mensagem'] = train['Mensagem'].astype('category')\n",
    "    train['Target'] = train['Target'].astype('category')\n",
    "\n",
    "    test['Mensagem'] = test['Mensagem'].astype('category')\n",
    "    test['Target'] = test['Target'].astype('category')\n",
    "    \n",
    "    tabela_relativa = train.Target.value_counts(True)\n",
    "\n",
    "    P_amazon = tabela_relativa[1]\n",
    "    P_livro = tabela_relativa[2]\n",
    "    P_outros = tabela_relativa[3]\n",
    "    tabela_relativa\n",
    "\n",
    "    palavras = ''\n",
    "\n",
    "    for i in range(len(train['Mensagem'])):\n",
    "        palavras += train['Mensagem'][i] + ' '\n",
    "\n",
    "    palavras = palavras.split()\n",
    "    palavras = pd.Series(list(set(palavras)))\n",
    "    n_palavras_diff = len(palavras)\n",
    "\n",
    "    palavras_amazon = ''\n",
    "\n",
    "    amazon = train.loc[train['Target'] == 1, ['Mensagem']]\n",
    "    amazon = amazon.reset_index(drop=True)\n",
    "\n",
    "    for i in range(len(amazon['Mensagem'])):\n",
    "        palavras_amazon += amazon['Mensagem'][i] + ' '\n",
    "\n",
    "    palavras_amazon_lista = palavras_amazon.split()\n",
    "    palavras_amazon = pd.Series(palavras_amazon_lista)\n",
    "    P_palavra_dado_amazon = palavras_amazon.value_counts()\n",
    "    n_palavras_amazon = len(palavras_amazon)\n",
    "\n",
    "    palavras_livro = ''\n",
    "\n",
    "    livro = train.loc[train['Target'] == 2, ['Mensagem']]\n",
    "    livro = livro.reset_index(drop=True)\n",
    "\n",
    "    for i in range(len(livro['Mensagem'])):\n",
    "        palavras_livro += livro['Mensagem'][i] + ' '\n",
    "\n",
    "    palavras_livro_lista = palavras_livro.split()\n",
    "    palavras_livro = pd.Series(palavras_livro_lista)\n",
    "    P_palavra_dado_livro = palavras_livro.value_counts()\n",
    "    n_palavras_livro = len(palavras_livro)\n",
    "\n",
    "    palavras_outros = ''\n",
    "\n",
    "    outros = train.loc[train['Target'] == 3, ['Mensagem']]\n",
    "    outros = outros.reset_index(drop=True)\n",
    "\n",
    "    for i in range(len(outros['Mensagem'])):\n",
    "        palavras_outros += outros['Mensagem'][i] + ' '\n",
    "\n",
    "    palavras_outros_lista = palavras_outros.split()\n",
    "    palavras_outros = pd.Series(palavras_outros_lista)\n",
    "    P_palavra_dado_outros = palavras_outros.value_counts()\n",
    "    n_palavras_outros = len(palavras_outros)\n",
    "\n",
    "    for i, frase in test['Mensagem'].items():\n",
    "        frase = frase.split()\n",
    "        prob_amazon = 1\n",
    "        prob_livro = 1\n",
    "        prob_outros = 1\n",
    "        for palavra in frase:\n",
    "            if palavra not in palavras_amazon_lista:\n",
    "                prob_amazon *= (0 + 1)/(n_palavras_amazon + n_palavras_diff) * 10e2\n",
    "            else:\n",
    "                prob_amazon *= (P_palavra_dado_amazon[palavra] + 1)/(n_palavras_amazon + n_palavras_diff) * 10e2\n",
    "            \n",
    "            if palavra not in palavras_livro_lista:\n",
    "                prob_livro *= (0 + 1)/(n_palavras_livro + n_palavras_diff) * 10e2\n",
    "            else:\n",
    "                prob_livro *= (P_palavra_dado_livro[palavra] + 1)/(n_palavras_livro + n_palavras_diff) * 10e2\n",
    "            \n",
    "            if palavra not in palavras_outros_lista:\n",
    "                prob_outros *= (0 + 1)/(n_palavras_outros + n_palavras_diff) * 10e2\n",
    "            else:\n",
    "                prob_outros *= (P_palavra_dado_outros[palavra] + 1)/(n_palavras_outros + n_palavras_diff) * 10e2\n",
    "        \n",
    "        if prob_amazon > prob_livro and prob_amazon > prob_outros:\n",
    "            test.loc[i, 'Predição'] = 1\n",
    "        elif prob_livro > prob_amazon and prob_livro > prob_outros:\n",
    "            test.loc[i, 'Predição'] = 2\n",
    "        elif prob_outros > prob_amazon and prob_outros > prob_livro:\n",
    "            test.loc[i, 'Predição'] = 3\n",
    "\n",
    "    test['Predição'] = test['Predição'].astype('category')\n",
    "    test['Predição'] = test['Predição'].cat.reorder_categories([1, 2, 3])\n",
    "\n",
    "    tabela = pd.crosstab(test['Predição'], test['Target'], normalize='all')\n",
    "    V_amazon = tabela[1][1]\n",
    "    V_livro = tabela[2][2]\n",
    "    V_outros = tabela[3][3]\n",
    "    Acur = V_amazon + V_livro + V_outros\n",
    "    Acur_lista.append(Acur)"
   ]
  },
  {
   "cell_type": "code",
   "execution_count": 380,
   "metadata": {},
   "outputs": [
    {
     "data": {
      "text/html": [
       "<div>\n",
       "<style scoped>\n",
       "    .dataframe tbody tr th:only-of-type {\n",
       "        vertical-align: middle;\n",
       "    }\n",
       "\n",
       "    .dataframe tbody tr th {\n",
       "        vertical-align: top;\n",
       "    }\n",
       "\n",
       "    .dataframe thead th {\n",
       "        text-align: right;\n",
       "    }\n",
       "</style>\n",
       "<table border=\"1\" class=\"dataframe\">\n",
       "  <thead>\n",
       "    <tr style=\"text-align: right;\">\n",
       "      <th></th>\n",
       "      <th>0</th>\n",
       "    </tr>\n",
       "  </thead>\n",
       "  <tbody>\n",
       "    <tr>\n",
       "      <th>count</th>\n",
       "      <td>100.000000</td>\n",
       "    </tr>\n",
       "    <tr>\n",
       "      <th>mean</th>\n",
       "      <td>0.767050</td>\n",
       "    </tr>\n",
       "    <tr>\n",
       "      <th>std</th>\n",
       "      <td>0.026978</td>\n",
       "    </tr>\n",
       "    <tr>\n",
       "      <th>min</th>\n",
       "      <td>0.690000</td>\n",
       "    </tr>\n",
       "    <tr>\n",
       "      <th>25%</th>\n",
       "      <td>0.750000</td>\n",
       "    </tr>\n",
       "    <tr>\n",
       "      <th>50%</th>\n",
       "      <td>0.765000</td>\n",
       "    </tr>\n",
       "    <tr>\n",
       "      <th>75%</th>\n",
       "      <td>0.785000</td>\n",
       "    </tr>\n",
       "    <tr>\n",
       "      <th>max</th>\n",
       "      <td>0.825000</td>\n",
       "    </tr>\n",
       "  </tbody>\n",
       "</table>\n",
       "</div>"
      ],
      "text/plain": [
       "                0\n",
       "count  100.000000\n",
       "mean     0.767050\n",
       "std      0.026978\n",
       "min      0.690000\n",
       "25%      0.750000\n",
       "50%      0.765000\n",
       "75%      0.785000\n",
       "max      0.825000"
      ]
     },
     "execution_count": 380,
     "metadata": {},
     "output_type": "execute_result"
    }
   ],
   "source": [
    "pd.DataFrame(Acur_lista).describe()"
   ]
  },
  {
   "cell_type": "code",
   "execution_count": 387,
   "metadata": {},
   "outputs": [
    {
     "data": {
      "image/png": "[encoded data removed]",
      "text/plain": [
       "<Figure size 1500x500 with 1 Axes>"
      ]
     },
     "metadata": {},
     "output_type": "display_data"
    }
   ],
   "source": [
    "plt.figure(figsize=(15, 5))\n",
    "plt.subplot(121)\n",
    "plt.hist(Acur_lista, bins=10, density=True, edgecolor=\"black\")\n",
    "plt.xlabel(\"Acurácia\")\n",
    "plt.ylabel(\"Densidade\")\n",
    "plt.show()"
   ]
  },
  {
   "cell_type": "markdown",
   "metadata": {},
   "source": [
    "___\n",
    "## Aperfeiçoamento:\n",
    "\n",
    "Trabalhos que conseguirem pelo menos conceito B vão evoluir em conceito dependendo da quantidade de itens avançados:\n",
    "\n",
    "[X] IMPLEMENTOU outras limpezas e transformações que não afetem a qualidade da informação contida nos tweets. Ex: stemming, lemmatization, stopwords\n",
    "\n",
    "[] CONSIDEROU mais de duas categorias na variável Target e INCREMENTOU a quantidade de notícias, mantendo pelo menos 250 notícias por categoria (OBRIGATÓRIO PARA TRIOS, sem contar como item avançado)\n",
    "\n",
    "[X] Para Target com duas categorias: CRIOU pelo menos quatro categorias intermediárias de relevância baseadas na probabilidade: ex.: muito relevante, relevante, neutro, irrelevante, muito irrelevante\n",
    "\n",
    "[] EXPLICOU porquê não pode usar o próprio classificador para gerar mais amostras de treinamento\n",
    "\n",
    "[X] PROPÔS diferentes cenários para Naïve Bayes fora do contexto do projeto (pelo menos dois cenários, exceto aqueles já apresentados em sala pelos professores: por exemplo, filtro de spam)\n",
    "\n",
    "[] SUGERIU e EXPLICOU melhorias reais com indicações concretas de como implementar (indicar como fazer e indicar material de pesquisa)\n",
    "\n",
    "[X] FEZ o item Qualidade do Classificador a partir de novas separações das Notícias entre Treinamento e Teste descrito no enunciado do projeto (OBRIGATÓRIO para conceitos A ou A+)"
   ]
  },
  {
   "cell_type": "markdown",
   "metadata": {},
   "source": [
    "___\n",
    "## Referências"
   ]
  },
  {
   "cell_type": "markdown",
   "metadata": {},
   "source": [
    "[Naive Bayes and Text Classification](https://arxiv.org/pdf/1410.5329.pdf)  **Mais completo**\n",
    "\n",
    "[A practical explanation of a Naive Bayes Classifier](https://monkeylearn.com/blog/practical-explanation-naive-bayes-classifier/) **Mais simples**"
   ]
  },
  {
   "cell_type": "code",
   "execution_count": null,
   "metadata": {},
   "outputs": [],
   "source": []
  }
 ],
 "metadata": {
  "kernelspec": {
   "display_name": "Python 3",
   "language": "python",
   "name": "python3"
  },
  "language_info": {
   "codemirror_mode": {
    "name": "ipython",
    "version": 3
   },
   "file_extension": ".py",
   "mimetype": "text/x-python",
   "name": "python",
   "nbconvert_exporter": "python",
   "pygments_lexer": "ipython3",
   "version": "3.10.13"
  }
 },
 "nbformat": 4,
 "nbformat_minor": 4
}
